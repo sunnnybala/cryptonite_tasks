{
 "cells": [
  {
   "cell_type": "code",
   "execution_count": 1,
   "id": "62acd72d",
   "metadata": {
    "_cell_guid": "b1076dfc-b9ad-4769-8c92-a6c4dae69d19",
    "_uuid": "8f2839f25d086af736a60e9eeb907d3b93b6e0e5",
    "execution": {
     "iopub.execute_input": "2024-02-26T14:41:52.323414Z",
     "iopub.status.busy": "2024-02-26T14:41:52.322188Z",
     "iopub.status.idle": "2024-02-26T14:41:53.291037Z",
     "shell.execute_reply": "2024-02-26T14:41:53.289550Z"
    },
    "papermill": {
     "duration": 0.99115,
     "end_time": "2024-02-26T14:41:53.295929",
     "exception": false,
     "start_time": "2024-02-26T14:41:52.304779",
     "status": "completed"
    },
    "tags": []
   },
   "outputs": [
    {
     "name": "stdout",
     "output_type": "stream",
     "text": [
      "/kaggle/input/titanic/train.csv\n",
      "/kaggle/input/titanic/test.csv\n",
      "/kaggle/input/titanic/gender_submission.csv\n"
     ]
    }
   ],
   "source": [
    "# This Python 3 environment comes with many helpful analytics libraries installed\n",
    "# It is defined by the kaggle/python Docker image: https://github.com/kaggle/docker-python\n",
    "# For example, here's several helpful packages to load\n",
    " \n",
    "import numpy as np # linear algebra\n",
    "import pandas as pd # data processing, CSV file I/O (e.g. pd.read_csv)\n",
    "\n",
    "# Input data files are available in the read-only \"../input/\" directory\n",
    "# For example, running this (by clicking run or pressing Shift+Enter) will list all files under the input directory\n",
    "\n",
    "import os\n",
    "for dirname, _, filenames in os.walk('/kaggle/input'):\n",
    "    for filename in filenames:\n",
    "        print(os.path.join(dirname, filename))\n",
    "\n",
    "# You can write up to 20GB to the current directory (/kaggle/working/) that gets preserved as output when you create a version using \"Save & Run All\" \n",
    "# You can also write temporary files to /kaggle/temp/, but they won't be saved outside of the current session"
   ]
  },
  {
   "cell_type": "code",
   "execution_count": 2,
   "id": "e99a0d3c",
   "metadata": {
    "execution": {
     "iopub.execute_input": "2024-02-26T14:41:53.329733Z",
     "iopub.status.busy": "2024-02-26T14:41:53.328796Z",
     "iopub.status.idle": "2024-02-26T14:41:55.274721Z",
     "shell.execute_reply": "2024-02-26T14:41:55.273430Z"
    },
    "papermill": {
     "duration": 1.965603,
     "end_time": "2024-02-26T14:41:55.277453",
     "exception": false,
     "start_time": "2024-02-26T14:41:53.311850",
     "status": "completed"
    },
    "tags": []
   },
   "outputs": [
    {
     "name": "stderr",
     "output_type": "stream",
     "text": [
      "/tmp/ipykernel_18/287428842.py:12: FutureWarning: data_manager option is deprecated and will be removed in a future version. Only the BlockManager will be available.\n",
      "  pd.reset_option('all')\n",
      "/tmp/ipykernel_18/287428842.py:12: FutureWarning: use_inf_as_na option is deprecated and will be removed in a future version. Convert inf values to NaN before operating instead.\n",
      "  pd.reset_option('all')\n"
     ]
    }
   ],
   "source": [
    "import matplotlib.pyplot as plt\n",
    "# A library for data manipulation and analysis.\n",
    "import pandas as pd\n",
    "import seaborn as sns\n",
    "from sklearn.model_selection import train_test_split\n",
    "# Output of plotting commands is displayed inline within the Jupyter notebook.\n",
    "%matplotlib inline \n",
    "\n",
    "# Set a seed so that the results are consistent.\n",
    "np.random.seed(3) \n",
    "# Resets the options\n",
    "pd.reset_option('all')"
   ]
  },
  {
   "cell_type": "code",
   "execution_count": 3,
   "id": "6e9b2aa8",
   "metadata": {
    "execution": {
     "iopub.execute_input": "2024-02-26T14:41:55.310392Z",
     "iopub.status.busy": "2024-02-26T14:41:55.309749Z",
     "iopub.status.idle": "2024-02-26T14:41:55.316991Z",
     "shell.execute_reply": "2024-02-26T14:41:55.315841Z"
    },
    "papermill": {
     "duration": 0.026204,
     "end_time": "2024-02-26T14:41:55.319260",
     "exception": false,
     "start_time": "2024-02-26T14:41:55.293056",
     "status": "completed"
    },
    "tags": []
   },
   "outputs": [],
   "source": [
    "def print_full(x):\n",
    "    pd.set_option('display.max_rows', None)\n",
    "    pd.set_option('display.max_columns', None)\n",
    "    pd.set_option('display.width', 2000)\n",
    "    pd.set_option('display.float_format', '{:20,.2f}'.format)\n",
    "    pd.set_option('display.max_colwidth', None)\n",
    "    print(x)\n",
    "    pd.reset_option('display.max_rows')\n",
    "    pd.reset_option('display.max_columns')\n",
    "    pd.reset_option('display.width')\n",
    "    pd.reset_option('display.float_format')\n",
    "    pd.reset_option('display.max_colwidth')"
   ]
  },
  {
   "cell_type": "code",
   "execution_count": 4,
   "id": "3701560b",
   "metadata": {
    "execution": {
     "iopub.execute_input": "2024-02-26T14:41:55.354096Z",
     "iopub.status.busy": "2024-02-26T14:41:55.352985Z",
     "iopub.status.idle": "2024-02-26T14:41:55.389795Z",
     "shell.execute_reply": "2024-02-26T14:41:55.388532Z"
    },
    "papermill": {
     "duration": 0.058754,
     "end_time": "2024-02-26T14:41:55.393432",
     "exception": false,
     "start_time": "2024-02-26T14:41:55.334678",
     "status": "completed"
    },
    "tags": []
   },
   "outputs": [],
   "source": [
    "path = \"/kaggle/input/titanic/train.csv\"\n",
    "path2 = \"/kaggle/input/titanic/test.csv\"\n",
    "adv = pd.read_csv(path)\n",
    "test = pd.read_csv(path2)"
   ]
  },
  {
   "cell_type": "code",
   "execution_count": 5,
   "id": "7b174dff",
   "metadata": {
    "execution": {
     "iopub.execute_input": "2024-02-26T14:41:55.426788Z",
     "iopub.status.busy": "2024-02-26T14:41:55.426316Z",
     "iopub.status.idle": "2024-02-26T14:41:55.474760Z",
     "shell.execute_reply": "2024-02-26T14:41:55.473490Z"
    },
    "papermill": {
     "duration": 0.068578,
     "end_time": "2024-02-26T14:41:55.477678",
     "exception": false,
     "start_time": "2024-02-26T14:41:55.409100",
     "status": "completed"
    },
    "tags": []
   },
   "outputs": [
    {
     "data": {
      "text/html": [
       "<div>\n",
       "<style scoped>\n",
       "    .dataframe tbody tr th:only-of-type {\n",
       "        vertical-align: middle;\n",
       "    }\n",
       "\n",
       "    .dataframe tbody tr th {\n",
       "        vertical-align: top;\n",
       "    }\n",
       "\n",
       "    .dataframe thead th {\n",
       "        text-align: right;\n",
       "    }\n",
       "</style>\n",
       "<table border=\"1\" class=\"dataframe\">\n",
       "  <thead>\n",
       "    <tr style=\"text-align: right;\">\n",
       "      <th></th>\n",
       "      <th>PassengerId</th>\n",
       "      <th>Survived</th>\n",
       "      <th>Pclass</th>\n",
       "      <th>Age</th>\n",
       "      <th>SibSp</th>\n",
       "      <th>Parch</th>\n",
       "      <th>Fare</th>\n",
       "    </tr>\n",
       "  </thead>\n",
       "  <tbody>\n",
       "    <tr>\n",
       "      <th>count</th>\n",
       "      <td>891.000000</td>\n",
       "      <td>891.000000</td>\n",
       "      <td>891.000000</td>\n",
       "      <td>714.000000</td>\n",
       "      <td>891.000000</td>\n",
       "      <td>891.000000</td>\n",
       "      <td>891.000000</td>\n",
       "    </tr>\n",
       "    <tr>\n",
       "      <th>mean</th>\n",
       "      <td>446.000000</td>\n",
       "      <td>0.383838</td>\n",
       "      <td>2.308642</td>\n",
       "      <td>29.699118</td>\n",
       "      <td>0.523008</td>\n",
       "      <td>0.381594</td>\n",
       "      <td>32.204208</td>\n",
       "    </tr>\n",
       "    <tr>\n",
       "      <th>std</th>\n",
       "      <td>257.353842</td>\n",
       "      <td>0.486592</td>\n",
       "      <td>0.836071</td>\n",
       "      <td>14.526497</td>\n",
       "      <td>1.102743</td>\n",
       "      <td>0.806057</td>\n",
       "      <td>49.693429</td>\n",
       "    </tr>\n",
       "    <tr>\n",
       "      <th>min</th>\n",
       "      <td>1.000000</td>\n",
       "      <td>0.000000</td>\n",
       "      <td>1.000000</td>\n",
       "      <td>0.420000</td>\n",
       "      <td>0.000000</td>\n",
       "      <td>0.000000</td>\n",
       "      <td>0.000000</td>\n",
       "    </tr>\n",
       "    <tr>\n",
       "      <th>25%</th>\n",
       "      <td>223.500000</td>\n",
       "      <td>0.000000</td>\n",
       "      <td>2.000000</td>\n",
       "      <td>20.125000</td>\n",
       "      <td>0.000000</td>\n",
       "      <td>0.000000</td>\n",
       "      <td>7.910400</td>\n",
       "    </tr>\n",
       "    <tr>\n",
       "      <th>50%</th>\n",
       "      <td>446.000000</td>\n",
       "      <td>0.000000</td>\n",
       "      <td>3.000000</td>\n",
       "      <td>28.000000</td>\n",
       "      <td>0.000000</td>\n",
       "      <td>0.000000</td>\n",
       "      <td>14.454200</td>\n",
       "    </tr>\n",
       "    <tr>\n",
       "      <th>75%</th>\n",
       "      <td>668.500000</td>\n",
       "      <td>1.000000</td>\n",
       "      <td>3.000000</td>\n",
       "      <td>38.000000</td>\n",
       "      <td>1.000000</td>\n",
       "      <td>0.000000</td>\n",
       "      <td>31.000000</td>\n",
       "    </tr>\n",
       "    <tr>\n",
       "      <th>max</th>\n",
       "      <td>891.000000</td>\n",
       "      <td>1.000000</td>\n",
       "      <td>3.000000</td>\n",
       "      <td>80.000000</td>\n",
       "      <td>8.000000</td>\n",
       "      <td>6.000000</td>\n",
       "      <td>512.329200</td>\n",
       "    </tr>\n",
       "  </tbody>\n",
       "</table>\n",
       "</div>"
      ],
      "text/plain": [
       "       PassengerId    Survived      Pclass         Age       SibSp  \\\n",
       "count   891.000000  891.000000  891.000000  714.000000  891.000000   \n",
       "mean    446.000000    0.383838    2.308642   29.699118    0.523008   \n",
       "std     257.353842    0.486592    0.836071   14.526497    1.102743   \n",
       "min       1.000000    0.000000    1.000000    0.420000    0.000000   \n",
       "25%     223.500000    0.000000    2.000000   20.125000    0.000000   \n",
       "50%     446.000000    0.000000    3.000000   28.000000    0.000000   \n",
       "75%     668.500000    1.000000    3.000000   38.000000    1.000000   \n",
       "max     891.000000    1.000000    3.000000   80.000000    8.000000   \n",
       "\n",
       "            Parch        Fare  \n",
       "count  891.000000  891.000000  \n",
       "mean     0.381594   32.204208  \n",
       "std      0.806057   49.693429  \n",
       "min      0.000000    0.000000  \n",
       "25%      0.000000    7.910400  \n",
       "50%      0.000000   14.454200  \n",
       "75%      0.000000   31.000000  \n",
       "max      6.000000  512.329200  "
      ]
     },
     "execution_count": 5,
     "metadata": {},
     "output_type": "execute_result"
    }
   ],
   "source": [
    "adv.describe()"
   ]
  },
  {
   "cell_type": "code",
   "execution_count": 6,
   "id": "3a1ab873",
   "metadata": {
    "execution": {
     "iopub.execute_input": "2024-02-26T14:41:55.512571Z",
     "iopub.status.busy": "2024-02-26T14:41:55.511776Z",
     "iopub.status.idle": "2024-02-26T14:41:55.541656Z",
     "shell.execute_reply": "2024-02-26T14:41:55.540346Z"
    },
    "papermill": {
     "duration": 0.050473,
     "end_time": "2024-02-26T14:41:55.544549",
     "exception": false,
     "start_time": "2024-02-26T14:41:55.494076",
     "status": "completed"
    },
    "tags": []
   },
   "outputs": [
    {
     "data": {
      "text/html": [
       "<div>\n",
       "<style scoped>\n",
       "    .dataframe tbody tr th:only-of-type {\n",
       "        vertical-align: middle;\n",
       "    }\n",
       "\n",
       "    .dataframe tbody tr th {\n",
       "        vertical-align: top;\n",
       "    }\n",
       "\n",
       "    .dataframe thead th {\n",
       "        text-align: right;\n",
       "    }\n",
       "</style>\n",
       "<table border=\"1\" class=\"dataframe\">\n",
       "  <thead>\n",
       "    <tr style=\"text-align: right;\">\n",
       "      <th></th>\n",
       "      <th>PassengerId</th>\n",
       "      <th>Pclass</th>\n",
       "      <th>Age</th>\n",
       "      <th>SibSp</th>\n",
       "      <th>Parch</th>\n",
       "      <th>Fare</th>\n",
       "    </tr>\n",
       "  </thead>\n",
       "  <tbody>\n",
       "    <tr>\n",
       "      <th>count</th>\n",
       "      <td>418.000000</td>\n",
       "      <td>418.000000</td>\n",
       "      <td>332.000000</td>\n",
       "      <td>418.000000</td>\n",
       "      <td>418.000000</td>\n",
       "      <td>417.000000</td>\n",
       "    </tr>\n",
       "    <tr>\n",
       "      <th>mean</th>\n",
       "      <td>1100.500000</td>\n",
       "      <td>2.265550</td>\n",
       "      <td>30.272590</td>\n",
       "      <td>0.447368</td>\n",
       "      <td>0.392344</td>\n",
       "      <td>35.627188</td>\n",
       "    </tr>\n",
       "    <tr>\n",
       "      <th>std</th>\n",
       "      <td>120.810458</td>\n",
       "      <td>0.841838</td>\n",
       "      <td>14.181209</td>\n",
       "      <td>0.896760</td>\n",
       "      <td>0.981429</td>\n",
       "      <td>55.907576</td>\n",
       "    </tr>\n",
       "    <tr>\n",
       "      <th>min</th>\n",
       "      <td>892.000000</td>\n",
       "      <td>1.000000</td>\n",
       "      <td>0.170000</td>\n",
       "      <td>0.000000</td>\n",
       "      <td>0.000000</td>\n",
       "      <td>0.000000</td>\n",
       "    </tr>\n",
       "    <tr>\n",
       "      <th>25%</th>\n",
       "      <td>996.250000</td>\n",
       "      <td>1.000000</td>\n",
       "      <td>21.000000</td>\n",
       "      <td>0.000000</td>\n",
       "      <td>0.000000</td>\n",
       "      <td>7.895800</td>\n",
       "    </tr>\n",
       "    <tr>\n",
       "      <th>50%</th>\n",
       "      <td>1100.500000</td>\n",
       "      <td>3.000000</td>\n",
       "      <td>27.000000</td>\n",
       "      <td>0.000000</td>\n",
       "      <td>0.000000</td>\n",
       "      <td>14.454200</td>\n",
       "    </tr>\n",
       "    <tr>\n",
       "      <th>75%</th>\n",
       "      <td>1204.750000</td>\n",
       "      <td>3.000000</td>\n",
       "      <td>39.000000</td>\n",
       "      <td>1.000000</td>\n",
       "      <td>0.000000</td>\n",
       "      <td>31.500000</td>\n",
       "    </tr>\n",
       "    <tr>\n",
       "      <th>max</th>\n",
       "      <td>1309.000000</td>\n",
       "      <td>3.000000</td>\n",
       "      <td>76.000000</td>\n",
       "      <td>8.000000</td>\n",
       "      <td>9.000000</td>\n",
       "      <td>512.329200</td>\n",
       "    </tr>\n",
       "  </tbody>\n",
       "</table>\n",
       "</div>"
      ],
      "text/plain": [
       "       PassengerId      Pclass         Age       SibSp       Parch        Fare\n",
       "count   418.000000  418.000000  332.000000  418.000000  418.000000  417.000000\n",
       "mean   1100.500000    2.265550   30.272590    0.447368    0.392344   35.627188\n",
       "std     120.810458    0.841838   14.181209    0.896760    0.981429   55.907576\n",
       "min     892.000000    1.000000    0.170000    0.000000    0.000000    0.000000\n",
       "25%     996.250000    1.000000   21.000000    0.000000    0.000000    7.895800\n",
       "50%    1100.500000    3.000000   27.000000    0.000000    0.000000   14.454200\n",
       "75%    1204.750000    3.000000   39.000000    1.000000    0.000000   31.500000\n",
       "max    1309.000000    3.000000   76.000000    8.000000    9.000000  512.329200"
      ]
     },
     "execution_count": 6,
     "metadata": {},
     "output_type": "execute_result"
    }
   ],
   "source": [
    "test.describe()"
   ]
  },
  {
   "cell_type": "code",
   "execution_count": 7,
   "id": "86e89abd",
   "metadata": {
    "execution": {
     "iopub.execute_input": "2024-02-26T14:41:55.579844Z",
     "iopub.status.busy": "2024-02-26T14:41:55.579393Z",
     "iopub.status.idle": "2024-02-26T14:41:55.586418Z",
     "shell.execute_reply": "2024-02-26T14:41:55.585270Z"
    },
    "papermill": {
     "duration": 0.028236,
     "end_time": "2024-02-26T14:41:55.589038",
     "exception": false,
     "start_time": "2024-02-26T14:41:55.560802",
     "status": "completed"
    },
    "tags": []
   },
   "outputs": [
    {
     "name": "stdout",
     "output_type": "stream",
     "text": [
      "PassengerId      int64\n",
      "Pclass           int64\n",
      "Name            object\n",
      "Sex             object\n",
      "Age            float64\n",
      "SibSp            int64\n",
      "Parch            int64\n",
      "Ticket          object\n",
      "Fare           float64\n",
      "Cabin           object\n",
      "Embarked        object\n"
     ]
    }
   ],
   "source": [
    "print(test.dtypes.to_string())"
   ]
  },
  {
   "cell_type": "code",
   "execution_count": 8,
   "id": "775b141d",
   "metadata": {
    "execution": {
     "iopub.execute_input": "2024-02-26T14:41:55.623020Z",
     "iopub.status.busy": "2024-02-26T14:41:55.622606Z",
     "iopub.status.idle": "2024-02-26T14:41:55.632210Z",
     "shell.execute_reply": "2024-02-26T14:41:55.631355Z"
    },
    "papermill": {
     "duration": 0.029467,
     "end_time": "2024-02-26T14:41:55.634595",
     "exception": false,
     "start_time": "2024-02-26T14:41:55.605128",
     "status": "completed"
    },
    "tags": []
   },
   "outputs": [],
   "source": [
    "adv = adv.drop(columns=['Name','Cabin'], axis=1)"
   ]
  },
  {
   "cell_type": "code",
   "execution_count": 9,
   "id": "80eb8c74",
   "metadata": {
    "execution": {
     "iopub.execute_input": "2024-02-26T14:41:55.670307Z",
     "iopub.status.busy": "2024-02-26T14:41:55.669096Z",
     "iopub.status.idle": "2024-02-26T14:41:55.675210Z",
     "shell.execute_reply": "2024-02-26T14:41:55.674046Z"
    },
    "papermill": {
     "duration": 0.02669,
     "end_time": "2024-02-26T14:41:55.677777",
     "exception": false,
     "start_time": "2024-02-26T14:41:55.651087",
     "status": "completed"
    },
    "tags": []
   },
   "outputs": [],
   "source": [
    "test = test.drop(columns=['Name','Cabin'], axis=1)"
   ]
  },
  {
   "cell_type": "code",
   "execution_count": 10,
   "id": "5d4dbe66",
   "metadata": {
    "execution": {
     "iopub.execute_input": "2024-02-26T14:41:55.711801Z",
     "iopub.status.busy": "2024-02-26T14:41:55.711354Z",
     "iopub.status.idle": "2024-02-26T14:41:55.719952Z",
     "shell.execute_reply": "2024-02-26T14:41:55.719183Z"
    },
    "papermill": {
     "duration": 0.028414,
     "end_time": "2024-02-26T14:41:55.722299",
     "exception": false,
     "start_time": "2024-02-26T14:41:55.693885",
     "status": "completed"
    },
    "tags": []
   },
   "outputs": [
    {
     "data": {
      "text/plain": [
       "PassengerId      0\n",
       "Survived         0\n",
       "Pclass           0\n",
       "Sex              0\n",
       "Age            177\n",
       "SibSp            0\n",
       "Parch            0\n",
       "Ticket           0\n",
       "Fare             0\n",
       "Embarked         2\n",
       "dtype: int64"
      ]
     },
     "execution_count": 10,
     "metadata": {},
     "output_type": "execute_result"
    }
   ],
   "source": [
    "pd.isnull(adv).sum()"
   ]
  },
  {
   "cell_type": "code",
   "execution_count": 11,
   "id": "34bc1f94",
   "metadata": {
    "execution": {
     "iopub.execute_input": "2024-02-26T14:41:55.758557Z",
     "iopub.status.busy": "2024-02-26T14:41:55.757221Z",
     "iopub.status.idle": "2024-02-26T14:41:55.767757Z",
     "shell.execute_reply": "2024-02-26T14:41:55.766554Z"
    },
    "papermill": {
     "duration": 0.030307,
     "end_time": "2024-02-26T14:41:55.770128",
     "exception": false,
     "start_time": "2024-02-26T14:41:55.739821",
     "status": "completed"
    },
    "tags": []
   },
   "outputs": [],
   "source": [
    "adv['Embarked'] = adv['Embarked'].fillna(adv['Embarked'].mode()[0]) "
   ]
  },
  {
   "cell_type": "code",
   "execution_count": 12,
   "id": "d843eca6",
   "metadata": {
    "execution": {
     "iopub.execute_input": "2024-02-26T14:41:55.803994Z",
     "iopub.status.busy": "2024-02-26T14:41:55.803550Z",
     "iopub.status.idle": "2024-02-26T14:41:55.813299Z",
     "shell.execute_reply": "2024-02-26T14:41:55.812150Z"
    },
    "papermill": {
     "duration": 0.029625,
     "end_time": "2024-02-26T14:41:55.815828",
     "exception": false,
     "start_time": "2024-02-26T14:41:55.786203",
     "status": "completed"
    },
    "tags": []
   },
   "outputs": [
    {
     "data": {
      "text/plain": [
       "PassengerId     0\n",
       "Pclass          0\n",
       "Sex             0\n",
       "Age            86\n",
       "SibSp           0\n",
       "Parch           0\n",
       "Ticket          0\n",
       "Fare            1\n",
       "Embarked        0\n",
       "dtype: int64"
      ]
     },
     "execution_count": 12,
     "metadata": {},
     "output_type": "execute_result"
    }
   ],
   "source": [
    "pd.isnull(test).sum()"
   ]
  },
  {
   "cell_type": "code",
   "execution_count": 13,
   "id": "43781ac4",
   "metadata": {
    "execution": {
     "iopub.execute_input": "2024-02-26T14:41:55.852307Z",
     "iopub.status.busy": "2024-02-26T14:41:55.851098Z",
     "iopub.status.idle": "2024-02-26T14:41:55.859821Z",
     "shell.execute_reply": "2024-02-26T14:41:55.858850Z"
    },
    "papermill": {
     "duration": 0.029844,
     "end_time": "2024-02-26T14:41:55.862505",
     "exception": false,
     "start_time": "2024-02-26T14:41:55.832661",
     "status": "completed"
    },
    "tags": []
   },
   "outputs": [],
   "source": [
    "test['Fare'] = test['Fare'].fillna(test['Fare'].mode()[0])"
   ]
  },
  {
   "cell_type": "code",
   "execution_count": 14,
   "id": "823d4b58",
   "metadata": {
    "execution": {
     "iopub.execute_input": "2024-02-26T14:41:55.897067Z",
     "iopub.status.busy": "2024-02-26T14:41:55.896665Z",
     "iopub.status.idle": "2024-02-26T14:41:55.903730Z",
     "shell.execute_reply": "2024-02-26T14:41:55.902524Z"
    },
    "papermill": {
     "duration": 0.027179,
     "end_time": "2024-02-26T14:41:55.906115",
     "exception": false,
     "start_time": "2024-02-26T14:41:55.878936",
     "status": "completed"
    },
    "tags": []
   },
   "outputs": [],
   "source": [
    "adv['Age'] = adv['Age'].fillna(adv['Age'].mean())"
   ]
  },
  {
   "cell_type": "code",
   "execution_count": 15,
   "id": "e94f1180",
   "metadata": {
    "execution": {
     "iopub.execute_input": "2024-02-26T14:41:55.941185Z",
     "iopub.status.busy": "2024-02-26T14:41:55.940808Z",
     "iopub.status.idle": "2024-02-26T14:41:55.946805Z",
     "shell.execute_reply": "2024-02-26T14:41:55.945546Z"
    },
    "papermill": {
     "duration": 0.026218,
     "end_time": "2024-02-26T14:41:55.949289",
     "exception": false,
     "start_time": "2024-02-26T14:41:55.923071",
     "status": "completed"
    },
    "tags": []
   },
   "outputs": [],
   "source": [
    "test['Age'] = test['Age'].fillna(test['Age'].mean())"
   ]
  },
  {
   "cell_type": "code",
   "execution_count": 16,
   "id": "e5621615",
   "metadata": {
    "execution": {
     "iopub.execute_input": "2024-02-26T14:41:55.983949Z",
     "iopub.status.busy": "2024-02-26T14:41:55.983545Z",
     "iopub.status.idle": "2024-02-26T14:41:55.993109Z",
     "shell.execute_reply": "2024-02-26T14:41:55.991851Z"
    },
    "papermill": {
     "duration": 0.03034,
     "end_time": "2024-02-26T14:41:55.995961",
     "exception": false,
     "start_time": "2024-02-26T14:41:55.965621",
     "status": "completed"
    },
    "tags": []
   },
   "outputs": [
    {
     "data": {
      "text/plain": [
       "PassengerId    0\n",
       "Pclass         0\n",
       "Sex            0\n",
       "Age            0\n",
       "SibSp          0\n",
       "Parch          0\n",
       "Ticket         0\n",
       "Fare           0\n",
       "Embarked       0\n",
       "dtype: int64"
      ]
     },
     "execution_count": 16,
     "metadata": {},
     "output_type": "execute_result"
    }
   ],
   "source": [
    "pd.isnull(test).sum()"
   ]
  },
  {
   "cell_type": "code",
   "execution_count": 17,
   "id": "a9801fad",
   "metadata": {
    "execution": {
     "iopub.execute_input": "2024-02-26T14:41:56.032193Z",
     "iopub.status.busy": "2024-02-26T14:41:56.031562Z",
     "iopub.status.idle": "2024-02-26T14:41:56.040659Z",
     "shell.execute_reply": "2024-02-26T14:41:56.039357Z"
    },
    "papermill": {
     "duration": 0.029781,
     "end_time": "2024-02-26T14:41:56.043077",
     "exception": false,
     "start_time": "2024-02-26T14:41:56.013296",
     "status": "completed"
    },
    "tags": []
   },
   "outputs": [
    {
     "data": {
      "text/plain": [
       "PassengerId    0\n",
       "Survived       0\n",
       "Pclass         0\n",
       "Sex            0\n",
       "Age            0\n",
       "SibSp          0\n",
       "Parch          0\n",
       "Ticket         0\n",
       "Fare           0\n",
       "Embarked       0\n",
       "dtype: int64"
      ]
     },
     "execution_count": 17,
     "metadata": {},
     "output_type": "execute_result"
    }
   ],
   "source": [
    "pd.isnull(adv).sum()"
   ]
  },
  {
   "cell_type": "code",
   "execution_count": 18,
   "id": "ea60160b",
   "metadata": {
    "execution": {
     "iopub.execute_input": "2024-02-26T14:41:56.078213Z",
     "iopub.status.busy": "2024-02-26T14:41:56.077139Z",
     "iopub.status.idle": "2024-02-26T14:41:56.083372Z",
     "shell.execute_reply": "2024-02-26T14:41:56.082514Z"
    },
    "papermill": {
     "duration": 0.026276,
     "end_time": "2024-02-26T14:41:56.085803",
     "exception": false,
     "start_time": "2024-02-26T14:41:56.059527",
     "status": "completed"
    },
    "tags": []
   },
   "outputs": [
    {
     "name": "stdout",
     "output_type": "stream",
     "text": [
      "PassengerId      int64\n",
      "Survived         int64\n",
      "Pclass           int64\n",
      "Sex             object\n",
      "Age            float64\n",
      "SibSp            int64\n",
      "Parch            int64\n",
      "Ticket          object\n",
      "Fare           float64\n",
      "Embarked        object\n"
     ]
    }
   ],
   "source": [
    "print(adv.dtypes.to_string())"
   ]
  },
  {
   "cell_type": "code",
   "execution_count": 19,
   "id": "595551e4",
   "metadata": {
    "execution": {
     "iopub.execute_input": "2024-02-26T14:41:56.121255Z",
     "iopub.status.busy": "2024-02-26T14:41:56.120596Z",
     "iopub.status.idle": "2024-02-26T14:41:56.127724Z",
     "shell.execute_reply": "2024-02-26T14:41:56.126954Z"
    },
    "papermill": {
     "duration": 0.027236,
     "end_time": "2024-02-26T14:41:56.129845",
     "exception": false,
     "start_time": "2024-02-26T14:41:56.102609",
     "status": "completed"
    },
    "tags": []
   },
   "outputs": [],
   "source": [
    "adv['PassengerId'] = adv['PassengerId'].astype(float)\n",
    "adv['Survived'] = adv['Survived'].astype(float)\n",
    "adv['Pclass'] = adv['Pclass'].astype(float)\n",
    "adv['SibSp'] = adv['SibSp'].astype(float)\n",
    "adv['Parch'] = adv['Parch'].astype(float)"
   ]
  },
  {
   "cell_type": "code",
   "execution_count": 20,
   "id": "d4ff415e",
   "metadata": {
    "execution": {
     "iopub.execute_input": "2024-02-26T14:41:56.165263Z",
     "iopub.status.busy": "2024-02-26T14:41:56.164527Z",
     "iopub.status.idle": "2024-02-26T14:41:56.172205Z",
     "shell.execute_reply": "2024-02-26T14:41:56.170955Z"
    },
    "papermill": {
     "duration": 0.028439,
     "end_time": "2024-02-26T14:41:56.174824",
     "exception": false,
     "start_time": "2024-02-26T14:41:56.146385",
     "status": "completed"
    },
    "tags": []
   },
   "outputs": [],
   "source": [
    "test['PassengerId'] = test['PassengerId'].astype(float)\n",
    "test['Pclass'] = test['Pclass'].astype(float)\n",
    "test['SibSp'] = test['SibSp'].astype(float)\n",
    "test['Parch'] = test['Parch'].astype(float)"
   ]
  },
  {
   "cell_type": "code",
   "execution_count": 21,
   "id": "9f6fddca",
   "metadata": {
    "execution": {
     "iopub.execute_input": "2024-02-26T14:41:56.211389Z",
     "iopub.status.busy": "2024-02-26T14:41:56.210625Z",
     "iopub.status.idle": "2024-02-26T14:41:56.217746Z",
     "shell.execute_reply": "2024-02-26T14:41:56.216553Z"
    },
    "papermill": {
     "duration": 0.028918,
     "end_time": "2024-02-26T14:41:56.220439",
     "exception": false,
     "start_time": "2024-02-26T14:41:56.191521",
     "status": "completed"
    },
    "tags": []
   },
   "outputs": [
    {
     "name": "stdout",
     "output_type": "stream",
     "text": [
      "PassengerId    float64\n",
      "Survived       float64\n",
      "Pclass         float64\n",
      "Sex             object\n",
      "Age            float64\n",
      "SibSp          float64\n",
      "Parch          float64\n",
      "Ticket          object\n",
      "Fare           float64\n",
      "Embarked        object\n"
     ]
    }
   ],
   "source": [
    "print(adv.dtypes.to_string())"
   ]
  },
  {
   "cell_type": "code",
   "execution_count": 22,
   "id": "aba0f51d",
   "metadata": {
    "execution": {
     "iopub.execute_input": "2024-02-26T14:41:56.257628Z",
     "iopub.status.busy": "2024-02-26T14:41:56.256949Z",
     "iopub.status.idle": "2024-02-26T14:41:56.264366Z",
     "shell.execute_reply": "2024-02-26T14:41:56.262751Z"
    },
    "papermill": {
     "duration": 0.028822,
     "end_time": "2024-02-26T14:41:56.266745",
     "exception": false,
     "start_time": "2024-02-26T14:41:56.237923",
     "status": "completed"
    },
    "tags": []
   },
   "outputs": [
    {
     "name": "stdout",
     "output_type": "stream",
     "text": [
      "PassengerId    float64\n",
      "Pclass         float64\n",
      "Sex             object\n",
      "Age            float64\n",
      "SibSp          float64\n",
      "Parch          float64\n",
      "Ticket          object\n",
      "Fare           float64\n",
      "Embarked        object\n"
     ]
    }
   ],
   "source": [
    "print(test.dtypes.to_string())"
   ]
  },
  {
   "cell_type": "markdown",
   "id": "c3dd7f9b",
   "metadata": {
    "papermill": {
     "duration": 0.01662,
     "end_time": "2024-02-26T14:41:56.359978",
     "exception": false,
     "start_time": "2024-02-26T14:41:56.343358",
     "status": "completed"
    },
    "tags": []
   },
   "source": [
    "confusion over what to do with ticket column "
   ]
  },
  {
   "cell_type": "code",
   "execution_count": 23,
   "id": "a4fb8d47",
   "metadata": {
    "execution": {
     "iopub.execute_input": "2024-02-26T14:41:56.397594Z",
     "iopub.status.busy": "2024-02-26T14:41:56.396735Z",
     "iopub.status.idle": "2024-02-26T14:41:56.406046Z",
     "shell.execute_reply": "2024-02-26T14:41:56.404528Z"
    },
    "papermill": {
     "duration": 0.030688,
     "end_time": "2024-02-26T14:41:56.408851",
     "exception": false,
     "start_time": "2024-02-26T14:41:56.378163",
     "status": "completed"
    },
    "tags": []
   },
   "outputs": [],
   "source": [
    "adv = adv.drop(columns=['Ticket'], axis=1)\n",
    "test = test.drop(columns=['Ticket'], axis=1)"
   ]
  },
  {
   "cell_type": "code",
   "execution_count": 24,
   "id": "07ab88ae",
   "metadata": {
    "execution": {
     "iopub.execute_input": "2024-02-26T14:41:56.446074Z",
     "iopub.status.busy": "2024-02-26T14:41:56.445347Z",
     "iopub.status.idle": "2024-02-26T14:41:56.465805Z",
     "shell.execute_reply": "2024-02-26T14:41:56.464779Z"
    },
    "papermill": {
     "duration": 0.042479,
     "end_time": "2024-02-26T14:41:56.468557",
     "exception": false,
     "start_time": "2024-02-26T14:41:56.426078",
     "status": "completed"
    },
    "tags": []
   },
   "outputs": [
    {
     "name": "stdout",
     "output_type": "stream",
     "text": [
      "<bound method NDFrame.head of      PassengerId  Survived  Pclass     Sex        Age  SibSp  Parch     Fare  \\\n",
      "0            1.0       0.0     3.0    male  22.000000    1.0    0.0   7.2500   \n",
      "1            2.0       1.0     1.0  female  38.000000    1.0    0.0  71.2833   \n",
      "2            3.0       1.0     3.0  female  26.000000    0.0    0.0   7.9250   \n",
      "3            4.0       1.0     1.0  female  35.000000    1.0    0.0  53.1000   \n",
      "4            5.0       0.0     3.0    male  35.000000    0.0    0.0   8.0500   \n",
      "..           ...       ...     ...     ...        ...    ...    ...      ...   \n",
      "886        887.0       0.0     2.0    male  27.000000    0.0    0.0  13.0000   \n",
      "887        888.0       1.0     1.0  female  19.000000    0.0    0.0  30.0000   \n",
      "888        889.0       0.0     3.0  female  29.699118    1.0    2.0  23.4500   \n",
      "889        890.0       1.0     1.0    male  26.000000    0.0    0.0  30.0000   \n",
      "890        891.0       0.0     3.0    male  32.000000    0.0    0.0   7.7500   \n",
      "\n",
      "    Embarked  \n",
      "0          S  \n",
      "1          C  \n",
      "2          S  \n",
      "3          S  \n",
      "4          S  \n",
      "..       ...  \n",
      "886        S  \n",
      "887        S  \n",
      "888        S  \n",
      "889        C  \n",
      "890        Q  \n",
      "\n",
      "[891 rows x 9 columns]>\n",
      "<bound method NDFrame.head of      PassengerId  Pclass     Sex       Age  SibSp  Parch      Fare Embarked\n",
      "0          892.0     3.0    male  34.50000    0.0    0.0    7.8292        Q\n",
      "1          893.0     3.0  female  47.00000    1.0    0.0    7.0000        S\n",
      "2          894.0     2.0    male  62.00000    0.0    0.0    9.6875        Q\n",
      "3          895.0     3.0    male  27.00000    0.0    0.0    8.6625        S\n",
      "4          896.0     3.0  female  22.00000    1.0    1.0   12.2875        S\n",
      "..           ...     ...     ...       ...    ...    ...       ...      ...\n",
      "413       1305.0     3.0    male  30.27259    0.0    0.0    8.0500        S\n",
      "414       1306.0     1.0  female  39.00000    0.0    0.0  108.9000        C\n",
      "415       1307.0     3.0    male  38.50000    0.0    0.0    7.2500        S\n",
      "416       1308.0     3.0    male  30.27259    0.0    0.0    8.0500        S\n",
      "417       1309.0     3.0    male  30.27259    1.0    1.0   22.3583        C\n",
      "\n",
      "[418 rows x 8 columns]>\n"
     ]
    }
   ],
   "source": [
    "print(adv.head)\n",
    "print(test.head)"
   ]
  },
  {
   "cell_type": "code",
   "execution_count": 25,
   "id": "32b3bec2",
   "metadata": {
    "execution": {
     "iopub.execute_input": "2024-02-26T14:41:56.505142Z",
     "iopub.status.busy": "2024-02-26T14:41:56.504377Z",
     "iopub.status.idle": "2024-02-26T14:41:56.517063Z",
     "shell.execute_reply": "2024-02-26T14:41:56.515555Z"
    },
    "papermill": {
     "duration": 0.033759,
     "end_time": "2024-02-26T14:41:56.519518",
     "exception": false,
     "start_time": "2024-02-26T14:41:56.485759",
     "status": "completed"
    },
    "tags": []
   },
   "outputs": [
    {
     "name": "stdout",
     "output_type": "stream",
     "text": [
      "PassengerId 891\n",
      "Survived 2\n",
      "Pclass 3\n",
      "Sex 2\n",
      "Age 89\n",
      "SibSp 7\n",
      "Parch 7\n",
      "Fare 248\n",
      "Embarked 3\n",
      "9\n"
     ]
    }
   ],
   "source": [
    "count = 0\n",
    "for column in adv.columns:\n",
    "    print(column,adv[column].nunique())\n",
    "    count = count +1\n",
    "print(count)"
   ]
  },
  {
   "cell_type": "code",
   "execution_count": 26,
   "id": "fe85ef1c",
   "metadata": {
    "execution": {
     "iopub.execute_input": "2024-02-26T14:41:56.558590Z",
     "iopub.status.busy": "2024-02-26T14:41:56.557541Z",
     "iopub.status.idle": "2024-02-26T14:41:56.566498Z",
     "shell.execute_reply": "2024-02-26T14:41:56.565083Z"
    },
    "papermill": {
     "duration": 0.030085,
     "end_time": "2024-02-26T14:41:56.569088",
     "exception": false,
     "start_time": "2024-02-26T14:41:56.539003",
     "status": "completed"
    },
    "tags": []
   },
   "outputs": [
    {
     "name": "stdout",
     "output_type": "stream",
     "text": [
      "PassengerId 418\n",
      "Pclass 3\n",
      "Sex 2\n",
      "Age 80\n",
      "SibSp 7\n",
      "Parch 8\n",
      "Fare 169\n",
      "Embarked 3\n",
      "8\n"
     ]
    }
   ],
   "source": [
    "count = 0\n",
    "for column in test.columns:\n",
    "    print(column,test[column].nunique())\n",
    "    count = count +1\n",
    "print(count)"
   ]
  },
  {
   "cell_type": "code",
   "execution_count": 27,
   "id": "9066215e",
   "metadata": {
    "execution": {
     "iopub.execute_input": "2024-02-26T14:41:56.606281Z",
     "iopub.status.busy": "2024-02-26T14:41:56.605077Z",
     "iopub.status.idle": "2024-02-26T14:41:56.628010Z",
     "shell.execute_reply": "2024-02-26T14:41:56.626861Z"
    },
    "papermill": {
     "duration": 0.044458,
     "end_time": "2024-02-26T14:41:56.630959",
     "exception": false,
     "start_time": "2024-02-26T14:41:56.586501",
     "status": "completed"
    },
    "tags": []
   },
   "outputs": [
    {
     "name": "stdout",
     "output_type": "stream",
     "text": [
      "     PassengerId  Pclass       Age  SibSp  Parch      Fare  Sex_female  \\\n",
      "0          892.0     3.0  34.50000    0.0    0.0    7.8292       False   \n",
      "1          893.0     3.0  47.00000    1.0    0.0    7.0000        True   \n",
      "2          894.0     2.0  62.00000    0.0    0.0    9.6875       False   \n",
      "3          895.0     3.0  27.00000    0.0    0.0    8.6625       False   \n",
      "4          896.0     3.0  22.00000    1.0    1.0   12.2875        True   \n",
      "..           ...     ...       ...    ...    ...       ...         ...   \n",
      "413       1305.0     3.0  30.27259    0.0    0.0    8.0500       False   \n",
      "414       1306.0     1.0  39.00000    0.0    0.0  108.9000        True   \n",
      "415       1307.0     3.0  38.50000    0.0    0.0    7.2500       False   \n",
      "416       1308.0     3.0  30.27259    0.0    0.0    8.0500       False   \n",
      "417       1309.0     3.0  30.27259    1.0    1.0   22.3583       False   \n",
      "\n",
      "     Sex_male  Embarked_C  Embarked_Q  Embarked_S  \n",
      "0        True       False        True       False  \n",
      "1       False       False       False        True  \n",
      "2        True       False        True       False  \n",
      "3        True       False       False        True  \n",
      "4       False       False       False        True  \n",
      "..        ...         ...         ...         ...  \n",
      "413      True       False       False        True  \n",
      "414     False        True       False       False  \n",
      "415      True       False       False        True  \n",
      "416      True       False       False        True  \n",
      "417      True        True       False       False  \n",
      "\n",
      "[418 rows x 11 columns]\n"
     ]
    }
   ],
   "source": [
    "one_hot_encoded_training_predictors = pd.get_dummies(adv)\n",
    "one_hot_encoded_test_predictors = pd.get_dummies(test)\n",
    "print(one_hot_encoded_test_predictors)\n",
    "final_train, final_test = one_hot_encoded_training_predictors.align(one_hot_encoded_test_predictors,\n",
    "                                                                    join='left', \n",
    "                                                                    axis=1)"
   ]
  },
  {
   "cell_type": "code",
   "execution_count": 28,
   "id": "0f1077ce",
   "metadata": {
    "execution": {
     "iopub.execute_input": "2024-02-26T14:41:56.668253Z",
     "iopub.status.busy": "2024-02-26T14:41:56.667598Z",
     "iopub.status.idle": "2024-02-26T14:41:56.683317Z",
     "shell.execute_reply": "2024-02-26T14:41:56.682086Z"
    },
    "papermill": {
     "duration": 0.037469,
     "end_time": "2024-02-26T14:41:56.685983",
     "exception": false,
     "start_time": "2024-02-26T14:41:56.648514",
     "status": "completed"
    },
    "tags": []
   },
   "outputs": [
    {
     "name": "stdout",
     "output_type": "stream",
     "text": [
      "<bound method NDFrame.head of      PassengerId  Survived  Pclass        Age  SibSp  Parch     Fare  \\\n",
      "0            1.0       0.0     3.0  22.000000    1.0    0.0   7.2500   \n",
      "1            2.0       1.0     1.0  38.000000    1.0    0.0  71.2833   \n",
      "2            3.0       1.0     3.0  26.000000    0.0    0.0   7.9250   \n",
      "3            4.0       1.0     1.0  35.000000    1.0    0.0  53.1000   \n",
      "4            5.0       0.0     3.0  35.000000    0.0    0.0   8.0500   \n",
      "..           ...       ...     ...        ...    ...    ...      ...   \n",
      "886        887.0       0.0     2.0  27.000000    0.0    0.0  13.0000   \n",
      "887        888.0       1.0     1.0  19.000000    0.0    0.0  30.0000   \n",
      "888        889.0       0.0     3.0  29.699118    1.0    2.0  23.4500   \n",
      "889        890.0       1.0     1.0  26.000000    0.0    0.0  30.0000   \n",
      "890        891.0       0.0     3.0  32.000000    0.0    0.0   7.7500   \n",
      "\n",
      "     Sex_female  Sex_male  Embarked_C  Embarked_Q  Embarked_S  \n",
      "0         False      True       False       False        True  \n",
      "1          True     False        True       False       False  \n",
      "2          True     False       False       False        True  \n",
      "3          True     False       False       False        True  \n",
      "4         False      True       False       False        True  \n",
      "..          ...       ...         ...         ...         ...  \n",
      "886       False      True       False       False        True  \n",
      "887        True     False       False       False        True  \n",
      "888        True     False       False       False        True  \n",
      "889       False      True        True       False       False  \n",
      "890       False      True       False        True       False  \n",
      "\n",
      "[891 rows x 12 columns]>\n"
     ]
    }
   ],
   "source": [
    "print(final_train.head)"
   ]
  },
  {
   "cell_type": "code",
   "execution_count": 29,
   "id": "a0a1442c",
   "metadata": {
    "execution": {
     "iopub.execute_input": "2024-02-26T14:41:56.724576Z",
     "iopub.status.busy": "2024-02-26T14:41:56.723444Z",
     "iopub.status.idle": "2024-02-26T14:41:56.739241Z",
     "shell.execute_reply": "2024-02-26T14:41:56.737558Z"
    },
    "papermill": {
     "duration": 0.037725,
     "end_time": "2024-02-26T14:41:56.741927",
     "exception": false,
     "start_time": "2024-02-26T14:41:56.704202",
     "status": "completed"
    },
    "tags": []
   },
   "outputs": [
    {
     "name": "stdout",
     "output_type": "stream",
     "text": [
      "<bound method NDFrame.head of      PassengerId  Survived  Pclass       Age  SibSp  Parch      Fare  \\\n",
      "0          892.0       NaN     3.0  34.50000    0.0    0.0    7.8292   \n",
      "1          893.0       NaN     3.0  47.00000    1.0    0.0    7.0000   \n",
      "2          894.0       NaN     2.0  62.00000    0.0    0.0    9.6875   \n",
      "3          895.0       NaN     3.0  27.00000    0.0    0.0    8.6625   \n",
      "4          896.0       NaN     3.0  22.00000    1.0    1.0   12.2875   \n",
      "..           ...       ...     ...       ...    ...    ...       ...   \n",
      "413       1305.0       NaN     3.0  30.27259    0.0    0.0    8.0500   \n",
      "414       1306.0       NaN     1.0  39.00000    0.0    0.0  108.9000   \n",
      "415       1307.0       NaN     3.0  38.50000    0.0    0.0    7.2500   \n",
      "416       1308.0       NaN     3.0  30.27259    0.0    0.0    8.0500   \n",
      "417       1309.0       NaN     3.0  30.27259    1.0    1.0   22.3583   \n",
      "\n",
      "     Sex_female  Sex_male  Embarked_C  Embarked_Q  Embarked_S  \n",
      "0         False      True       False        True       False  \n",
      "1          True     False       False       False        True  \n",
      "2         False      True       False        True       False  \n",
      "3         False      True       False       False        True  \n",
      "4          True     False       False       False        True  \n",
      "..          ...       ...         ...         ...         ...  \n",
      "413       False      True       False       False        True  \n",
      "414        True     False        True       False       False  \n",
      "415       False      True       False       False        True  \n",
      "416       False      True       False       False        True  \n",
      "417       False      True        True       False       False  \n",
      "\n",
      "[418 rows x 12 columns]>\n"
     ]
    }
   ],
   "source": [
    "print(final_test.head)"
   ]
  },
  {
   "cell_type": "code",
   "execution_count": 30,
   "id": "991d6713",
   "metadata": {
    "execution": {
     "iopub.execute_input": "2024-02-26T14:41:56.781022Z",
     "iopub.status.busy": "2024-02-26T14:41:56.780238Z",
     "iopub.status.idle": "2024-02-26T14:41:56.786595Z",
     "shell.execute_reply": "2024-02-26T14:41:56.785719Z"
    },
    "papermill": {
     "duration": 0.028597,
     "end_time": "2024-02-26T14:41:56.789302",
     "exception": false,
     "start_time": "2024-02-26T14:41:56.760705",
     "status": "completed"
    },
    "tags": []
   },
   "outputs": [
    {
     "name": "stdout",
     "output_type": "stream",
     "text": [
      "PassengerId    float64\n",
      "Survived       float64\n",
      "Pclass         float64\n",
      "Age            float64\n",
      "SibSp          float64\n",
      "Parch          float64\n",
      "Fare           float64\n",
      "Sex_female        bool\n",
      "Sex_male          bool\n",
      "Embarked_C        bool\n",
      "Embarked_Q        bool\n",
      "Embarked_S        bool\n"
     ]
    }
   ],
   "source": [
    "print(final_train.dtypes.to_string())"
   ]
  },
  {
   "cell_type": "code",
   "execution_count": 31,
   "id": "9cec4af8",
   "metadata": {
    "execution": {
     "iopub.execute_input": "2024-02-26T14:41:56.827293Z",
     "iopub.status.busy": "2024-02-26T14:41:56.826273Z",
     "iopub.status.idle": "2024-02-26T14:41:56.833247Z",
     "shell.execute_reply": "2024-02-26T14:41:56.832075Z"
    },
    "papermill": {
     "duration": 0.028535,
     "end_time": "2024-02-26T14:41:56.835683",
     "exception": false,
     "start_time": "2024-02-26T14:41:56.807148",
     "status": "completed"
    },
    "tags": []
   },
   "outputs": [
    {
     "name": "stdout",
     "output_type": "stream",
     "text": [
      "Index(['Sex_female', 'Sex_male', 'Embarked_C', 'Embarked_Q', 'Embarked_S'], dtype='object')\n"
     ]
    }
   ],
   "source": [
    "bool_cols = final_train.select_dtypes(include=[bool])\n",
    "\n",
    "# Print the selected boolean columns\n",
    "print(bool_cols.columns)"
   ]
  },
  {
   "cell_type": "code",
   "execution_count": 32,
   "id": "e377b798",
   "metadata": {
    "execution": {
     "iopub.execute_input": "2024-02-26T14:41:56.874117Z",
     "iopub.status.busy": "2024-02-26T14:41:56.872865Z",
     "iopub.status.idle": "2024-02-26T14:41:56.886493Z",
     "shell.execute_reply": "2024-02-26T14:41:56.885354Z"
    },
    "papermill": {
     "duration": 0.035612,
     "end_time": "2024-02-26T14:41:56.889254",
     "exception": false,
     "start_time": "2024-02-26T14:41:56.853642",
     "status": "completed"
    },
    "tags": []
   },
   "outputs": [
    {
     "name": "stderr",
     "output_type": "stream",
     "text": [
      "/tmp/ipykernel_18/3016513461.py:3: FutureWarning: Downcasting behavior in `replace` is deprecated and will be removed in a future version. To retain the old behavior, explicitly call `result.infer_objects(copy=False)`. To opt-in to the future behavior, set `pd.set_option('future.no_silent_downcasting', True)`\n",
      "  final_train[column_name] = final_train[column_name].replace(to_replace=False, value=0.0)\n"
     ]
    }
   ],
   "source": [
    "for column_name in bool_cols.columns:\n",
    "    final_train[column_name] = final_train[column_name].replace(to_replace=True, value=1.0)\n",
    "    final_train[column_name] = final_train[column_name].replace(to_replace=False, value=0.0)"
   ]
  },
  {
   "cell_type": "code",
   "execution_count": 33,
   "id": "d5788e63",
   "metadata": {
    "execution": {
     "iopub.execute_input": "2024-02-26T14:41:56.928316Z",
     "iopub.status.busy": "2024-02-26T14:41:56.927156Z",
     "iopub.status.idle": "2024-02-26T14:41:56.934112Z",
     "shell.execute_reply": "2024-02-26T14:41:56.933017Z"
    },
    "papermill": {
     "duration": 0.02899,
     "end_time": "2024-02-26T14:41:56.936597",
     "exception": false,
     "start_time": "2024-02-26T14:41:56.907607",
     "status": "completed"
    },
    "tags": []
   },
   "outputs": [
    {
     "name": "stdout",
     "output_type": "stream",
     "text": [
      "Index(['Sex_female', 'Sex_male', 'Embarked_C', 'Embarked_Q', 'Embarked_S'], dtype='object')\n"
     ]
    }
   ],
   "source": [
    "bool_cols = final_test.select_dtypes(include=[bool])\n",
    "\n",
    "# Print the selected boolean columns\n",
    "print(bool_cols.columns)"
   ]
  },
  {
   "cell_type": "code",
   "execution_count": 34,
   "id": "1b658267",
   "metadata": {
    "execution": {
     "iopub.execute_input": "2024-02-26T14:41:56.974956Z",
     "iopub.status.busy": "2024-02-26T14:41:56.974550Z",
     "iopub.status.idle": "2024-02-26T14:41:56.986671Z",
     "shell.execute_reply": "2024-02-26T14:41:56.985479Z"
    },
    "papermill": {
     "duration": 0.03423,
     "end_time": "2024-02-26T14:41:56.989073",
     "exception": false,
     "start_time": "2024-02-26T14:41:56.954843",
     "status": "completed"
    },
    "tags": []
   },
   "outputs": [
    {
     "name": "stderr",
     "output_type": "stream",
     "text": [
      "/tmp/ipykernel_18/3415220536.py:3: FutureWarning: Downcasting behavior in `replace` is deprecated and will be removed in a future version. To retain the old behavior, explicitly call `result.infer_objects(copy=False)`. To opt-in to the future behavior, set `pd.set_option('future.no_silent_downcasting', True)`\n",
      "  final_test[column_name] = final_test[column_name].replace(to_replace=False, value=0.0)\n"
     ]
    }
   ],
   "source": [
    "for column_name in bool_cols.columns:\n",
    "    final_test[column_name] = final_test[column_name].replace(to_replace=True, value=1.0)\n",
    "    final_test[column_name] = final_test[column_name].replace(to_replace=False, value=0.0)"
   ]
  },
  {
   "cell_type": "code",
   "execution_count": 35,
   "id": "1ba8d5c9",
   "metadata": {
    "execution": {
     "iopub.execute_input": "2024-02-26T14:41:57.027955Z",
     "iopub.status.busy": "2024-02-26T14:41:57.027583Z",
     "iopub.status.idle": "2024-02-26T14:41:57.034029Z",
     "shell.execute_reply": "2024-02-26T14:41:57.033102Z"
    },
    "papermill": {
     "duration": 0.028975,
     "end_time": "2024-02-26T14:41:57.036876",
     "exception": false,
     "start_time": "2024-02-26T14:41:57.007901",
     "status": "completed"
    },
    "tags": []
   },
   "outputs": [
    {
     "name": "stdout",
     "output_type": "stream",
     "text": [
      "PassengerId    float64\n",
      "Survived       float64\n",
      "Pclass         float64\n",
      "Age            float64\n",
      "SibSp          float64\n",
      "Parch          float64\n",
      "Fare           float64\n",
      "Sex_female     float64\n",
      "Sex_male       float64\n",
      "Embarked_C     float64\n",
      "Embarked_Q     float64\n",
      "Embarked_S     float64\n"
     ]
    }
   ],
   "source": [
    "print(final_train.dtypes.to_string())"
   ]
  },
  {
   "cell_type": "code",
   "execution_count": 36,
   "id": "a28c4aa9",
   "metadata": {
    "execution": {
     "iopub.execute_input": "2024-02-26T14:41:57.075241Z",
     "iopub.status.busy": "2024-02-26T14:41:57.074852Z",
     "iopub.status.idle": "2024-02-26T14:41:57.093238Z",
     "shell.execute_reply": "2024-02-26T14:41:57.092158Z"
    },
    "papermill": {
     "duration": 0.04075,
     "end_time": "2024-02-26T14:41:57.095908",
     "exception": false,
     "start_time": "2024-02-26T14:41:57.055158",
     "status": "completed"
    },
    "tags": []
   },
   "outputs": [
    {
     "name": "stdout",
     "output_type": "stream",
     "text": [
      "     PassengerId  Pclass        Age  SibSp  Parch     Fare  Sex_female  \\\n",
      "0            1.0     3.0  22.000000    1.0    0.0   7.2500         0.0   \n",
      "1            2.0     1.0  38.000000    1.0    0.0  71.2833         1.0   \n",
      "2            3.0     3.0  26.000000    0.0    0.0   7.9250         1.0   \n",
      "3            4.0     1.0  35.000000    1.0    0.0  53.1000         1.0   \n",
      "4            5.0     3.0  35.000000    0.0    0.0   8.0500         0.0   \n",
      "..           ...     ...        ...    ...    ...      ...         ...   \n",
      "886        887.0     2.0  27.000000    0.0    0.0  13.0000         0.0   \n",
      "887        888.0     1.0  19.000000    0.0    0.0  30.0000         1.0   \n",
      "888        889.0     3.0  29.699118    1.0    2.0  23.4500         1.0   \n",
      "889        890.0     1.0  26.000000    0.0    0.0  30.0000         0.0   \n",
      "890        891.0     3.0  32.000000    0.0    0.0   7.7500         0.0   \n",
      "\n",
      "     Sex_male  Embarked_C  Embarked_Q  Embarked_S  \n",
      "0         1.0         0.0         0.0         1.0  \n",
      "1         0.0         1.0         0.0         0.0  \n",
      "2         0.0         0.0         0.0         1.0  \n",
      "3         0.0         0.0         0.0         1.0  \n",
      "4         1.0         0.0         0.0         1.0  \n",
      "..        ...         ...         ...         ...  \n",
      "886       1.0         0.0         0.0         1.0  \n",
      "887       0.0         0.0         0.0         1.0  \n",
      "888       0.0         0.0         0.0         1.0  \n",
      "889       1.0         1.0         0.0         0.0  \n",
      "890       1.0         0.0         1.0         0.0  \n",
      "\n",
      "[891 rows x 11 columns]\n"
     ]
    }
   ],
   "source": [
    "target = final_train['Survived']\n",
    "target = target.astype(float)\n",
    "features = final_train.drop(['Survived'], axis=1)\n",
    "print(features)"
   ]
  },
  {
   "cell_type": "code",
   "execution_count": 37,
   "id": "711b84b0",
   "metadata": {
    "execution": {
     "iopub.execute_input": "2024-02-26T14:41:57.135321Z",
     "iopub.status.busy": "2024-02-26T14:41:57.134613Z",
     "iopub.status.idle": "2024-02-26T14:41:57.141266Z",
     "shell.execute_reply": "2024-02-26T14:41:57.140065Z"
    },
    "papermill": {
     "duration": 0.030216,
     "end_time": "2024-02-26T14:41:57.144646",
     "exception": false,
     "start_time": "2024-02-26T14:41:57.114430",
     "status": "completed"
    },
    "tags": []
   },
   "outputs": [
    {
     "name": "stdout",
     "output_type": "stream",
     "text": [
      "PassengerId    float64\n",
      "Pclass         float64\n",
      "Age            float64\n",
      "SibSp          float64\n",
      "Parch          float64\n",
      "Fare           float64\n",
      "Sex_female     float64\n",
      "Sex_male       float64\n",
      "Embarked_C     float64\n",
      "Embarked_Q     float64\n",
      "Embarked_S     float64\n"
     ]
    }
   ],
   "source": [
    "print(features.dtypes.to_string())"
   ]
  },
  {
   "cell_type": "code",
   "execution_count": 38,
   "id": "bca831d9",
   "metadata": {
    "execution": {
     "iopub.execute_input": "2024-02-26T14:41:57.183877Z",
     "iopub.status.busy": "2024-02-26T14:41:57.183455Z",
     "iopub.status.idle": "2024-02-26T14:41:57.188740Z",
     "shell.execute_reply": "2024-02-26T14:41:57.187664Z"
    },
    "papermill": {
     "duration": 0.028033,
     "end_time": "2024-02-26T14:41:57.191394",
     "exception": false,
     "start_time": "2024-02-26T14:41:57.163361",
     "status": "completed"
    },
    "tags": []
   },
   "outputs": [
    {
     "name": "stdout",
     "output_type": "stream",
     "text": [
      "float64\n"
     ]
    }
   ],
   "source": [
    "print(target.dtypes)"
   ]
  },
  {
   "cell_type": "code",
   "execution_count": 39,
   "id": "b86ec343",
   "metadata": {
    "execution": {
     "iopub.execute_input": "2024-02-26T14:41:57.231417Z",
     "iopub.status.busy": "2024-02-26T14:41:57.231039Z",
     "iopub.status.idle": "2024-02-26T14:42:23.135581Z",
     "shell.execute_reply": "2024-02-26T14:42:23.134218Z"
    },
    "papermill": {
     "duration": 25.928868,
     "end_time": "2024-02-26T14:42:23.138988",
     "exception": false,
     "start_time": "2024-02-26T14:41:57.210120",
     "status": "completed"
    },
    "tags": []
   },
   "outputs": [
    {
     "name": "stderr",
     "output_type": "stream",
     "text": [
      "2024-02-26 14:41:59.385250: E external/local_xla/xla/stream_executor/cuda/cuda_dnn.cc:9261] Unable to register cuDNN factory: Attempting to register factory for plugin cuDNN when one has already been registered\n",
      "2024-02-26 14:41:59.385378: E external/local_xla/xla/stream_executor/cuda/cuda_fft.cc:607] Unable to register cuFFT factory: Attempting to register factory for plugin cuFFT when one has already been registered\n",
      "2024-02-26 14:41:59.555206: E external/local_xla/xla/stream_executor/cuda/cuda_blas.cc:1515] Unable to register cuBLAS factory: Attempting to register factory for plugin cuBLAS when one has already been registered\n"
     ]
    },
    {
     "name": "stdout",
     "output_type": "stream",
     "text": [
      "Epoch 1/100\n",
      "26/26 [==============================] - 1s 12ms/step - loss: 55.2656 - accuracy: 0.6180 - val_loss: 33.5270 - val_accuracy: 0.6000\n",
      "Epoch 2/100\n",
      "26/26 [==============================] - 0s 3ms/step - loss: 16.8222 - accuracy: 0.6180 - val_loss: 2.4842 - val_accuracy: 0.5667\n",
      "Epoch 3/100\n",
      "26/26 [==============================] - 0s 3ms/step - loss: 2.7232 - accuracy: 0.5868 - val_loss: 1.5520 - val_accuracy: 0.6111\n",
      "Epoch 4/100\n",
      "26/26 [==============================] - 0s 3ms/step - loss: 1.9018 - accuracy: 0.6217 - val_loss: 1.2308 - val_accuracy: 0.6333\n",
      "Epoch 5/100\n",
      "26/26 [==============================] - 0s 3ms/step - loss: 1.4907 - accuracy: 0.6517 - val_loss: 1.0783 - val_accuracy: 0.6556\n",
      "Epoch 6/100\n",
      "26/26 [==============================] - 0s 3ms/step - loss: 1.8311 - accuracy: 0.6217 - val_loss: 0.9626 - val_accuracy: 0.6667\n",
      "Epoch 7/100\n",
      "26/26 [==============================] - 0s 4ms/step - loss: 1.3439 - accuracy: 0.6167 - val_loss: 0.9356 - val_accuracy: 0.6111\n",
      "Epoch 8/100\n",
      "26/26 [==============================] - 0s 3ms/step - loss: 1.1659 - accuracy: 0.6392 - val_loss: 0.8549 - val_accuracy: 0.6667\n",
      "Epoch 9/100\n",
      "26/26 [==============================] - 0s 3ms/step - loss: 1.0548 - accuracy: 0.6305 - val_loss: 0.7214 - val_accuracy: 0.6778\n",
      "Epoch 10/100\n",
      "26/26 [==============================] - 0s 3ms/step - loss: 0.9063 - accuracy: 0.6305 - val_loss: 0.6875 - val_accuracy: 0.6556\n",
      "Epoch 11/100\n",
      "26/26 [==============================] - 0s 4ms/step - loss: 0.7605 - accuracy: 0.6517 - val_loss: 0.8759 - val_accuracy: 0.6333\n",
      "Epoch 12/100\n",
      "26/26 [==============================] - 0s 4ms/step - loss: 0.8991 - accuracy: 0.6280 - val_loss: 0.6853 - val_accuracy: 0.6667\n",
      "Epoch 13/100\n",
      "26/26 [==============================] - 0s 4ms/step - loss: 0.7262 - accuracy: 0.6667 - val_loss: 0.6140 - val_accuracy: 0.7000\n",
      "Epoch 14/100\n",
      "26/26 [==============================] - 0s 3ms/step - loss: 0.7159 - accuracy: 0.6554 - val_loss: 0.5916 - val_accuracy: 0.7111\n",
      "Epoch 15/100\n",
      "26/26 [==============================] - 0s 3ms/step - loss: 0.7199 - accuracy: 0.6429 - val_loss: 0.7412 - val_accuracy: 0.6667\n",
      "Epoch 16/100\n",
      "26/26 [==============================] - 0s 3ms/step - loss: 0.7520 - accuracy: 0.6679 - val_loss: 0.6045 - val_accuracy: 0.6667\n",
      "Epoch 17/100\n",
      "26/26 [==============================] - 0s 3ms/step - loss: 0.7684 - accuracy: 0.6454 - val_loss: 0.5547 - val_accuracy: 0.7333\n",
      "Epoch 18/100\n",
      "26/26 [==============================] - 0s 3ms/step - loss: 0.6870 - accuracy: 0.6767 - val_loss: 0.5613 - val_accuracy: 0.7333\n",
      "Epoch 19/100\n",
      "26/26 [==============================] - 0s 3ms/step - loss: 0.6632 - accuracy: 0.6629 - val_loss: 0.5163 - val_accuracy: 0.7444\n",
      "Epoch 20/100\n",
      "26/26 [==============================] - 0s 3ms/step - loss: 0.6883 - accuracy: 0.6979 - val_loss: 0.5717 - val_accuracy: 0.6889\n",
      "Epoch 21/100\n",
      "26/26 [==============================] - 0s 3ms/step - loss: 0.7308 - accuracy: 0.6554 - val_loss: 0.6218 - val_accuracy: 0.6889\n",
      "Epoch 22/100\n",
      "26/26 [==============================] - 0s 3ms/step - loss: 0.6433 - accuracy: 0.6804 - val_loss: 0.4689 - val_accuracy: 0.8000\n",
      "Epoch 23/100\n",
      "26/26 [==============================] - 0s 3ms/step - loss: 0.5998 - accuracy: 0.7166 - val_loss: 0.6618 - val_accuracy: 0.6778\n",
      "Epoch 24/100\n",
      "26/26 [==============================] - 0s 4ms/step - loss: 0.8747 - accuracy: 0.6454 - val_loss: 0.6461 - val_accuracy: 0.6778\n",
      "Epoch 25/100\n",
      "26/26 [==============================] - 0s 3ms/step - loss: 0.6117 - accuracy: 0.7129 - val_loss: 0.5892 - val_accuracy: 0.6778\n",
      "Epoch 26/100\n",
      "26/26 [==============================] - 0s 3ms/step - loss: 0.8673 - accuracy: 0.6467 - val_loss: 0.4641 - val_accuracy: 0.7889\n",
      "Epoch 27/100\n",
      "26/26 [==============================] - 0s 3ms/step - loss: 0.5729 - accuracy: 0.7266 - val_loss: 0.5960 - val_accuracy: 0.6778\n",
      "Epoch 28/100\n",
      "26/26 [==============================] - 0s 4ms/step - loss: 0.6618 - accuracy: 0.7079 - val_loss: 1.6261 - val_accuracy: 0.5000\n",
      "Epoch 29/100\n",
      "26/26 [==============================] - 0s 4ms/step - loss: 1.6055 - accuracy: 0.6192 - val_loss: 0.6803 - val_accuracy: 0.7556\n",
      "Epoch 30/100\n",
      "26/26 [==============================] - 0s 4ms/step - loss: 0.9358 - accuracy: 0.6841 - val_loss: 0.3985 - val_accuracy: 0.7889\n",
      "Epoch 31/100\n",
      "26/26 [==============================] - 0s 3ms/step - loss: 0.5913 - accuracy: 0.7353 - val_loss: 0.3961 - val_accuracy: 0.7889\n",
      "Epoch 32/100\n",
      "26/26 [==============================] - 0s 3ms/step - loss: 0.6082 - accuracy: 0.7179 - val_loss: 0.5885 - val_accuracy: 0.6556\n",
      "Epoch 33/100\n",
      "26/26 [==============================] - 0s 3ms/step - loss: 0.9462 - accuracy: 0.6404 - val_loss: 0.5996 - val_accuracy: 0.7111\n",
      "Epoch 34/100\n",
      "26/26 [==============================] - 0s 3ms/step - loss: 0.8618 - accuracy: 0.6542 - val_loss: 0.4886 - val_accuracy: 0.7556\n",
      "Epoch 35/100\n",
      "26/26 [==============================] - 0s 4ms/step - loss: 0.5926 - accuracy: 0.7366 - val_loss: 0.4872 - val_accuracy: 0.7222\n",
      "Epoch 36/100\n",
      "26/26 [==============================] - 0s 3ms/step - loss: 0.5840 - accuracy: 0.7079 - val_loss: 0.4013 - val_accuracy: 0.8333\n",
      "Epoch 37/100\n",
      "26/26 [==============================] - 0s 4ms/step - loss: 0.7045 - accuracy: 0.7016 - val_loss: 0.3787 - val_accuracy: 0.8333\n",
      "Epoch 38/100\n",
      "26/26 [==============================] - 0s 3ms/step - loss: 0.5648 - accuracy: 0.7366 - val_loss: 0.4593 - val_accuracy: 0.7778\n",
      "Epoch 39/100\n",
      "26/26 [==============================] - 0s 4ms/step - loss: 0.6496 - accuracy: 0.7029 - val_loss: 0.5688 - val_accuracy: 0.6778\n",
      "Epoch 40/100\n",
      "26/26 [==============================] - 0s 4ms/step - loss: 0.7886 - accuracy: 0.6929 - val_loss: 0.4120 - val_accuracy: 0.8444\n",
      "Epoch 41/100\n",
      "26/26 [==============================] - 0s 4ms/step - loss: 0.7229 - accuracy: 0.7203 - val_loss: 0.4309 - val_accuracy: 0.8111\n",
      "Epoch 42/100\n",
      "26/26 [==============================] - 0s 3ms/step - loss: 0.5526 - accuracy: 0.7391 - val_loss: 0.4020 - val_accuracy: 0.8556\n",
      "Epoch 43/100\n",
      "26/26 [==============================] - 0s 4ms/step - loss: 0.6053 - accuracy: 0.7303 - val_loss: 0.7363 - val_accuracy: 0.6333\n",
      "Epoch 44/100\n",
      "26/26 [==============================] - 0s 3ms/step - loss: 0.6067 - accuracy: 0.7253 - val_loss: 0.3821 - val_accuracy: 0.8333\n",
      "Epoch 45/100\n",
      "26/26 [==============================] - 0s 4ms/step - loss: 0.5262 - accuracy: 0.7503 - val_loss: 0.4095 - val_accuracy: 0.8333\n",
      "Epoch 46/100\n",
      "26/26 [==============================] - 0s 3ms/step - loss: 0.5559 - accuracy: 0.7503 - val_loss: 0.4722 - val_accuracy: 0.7778\n",
      "Epoch 47/100\n",
      "26/26 [==============================] - 0s 3ms/step - loss: 0.8700 - accuracy: 0.6392 - val_loss: 0.4130 - val_accuracy: 0.8556\n",
      "Epoch 48/100\n",
      "26/26 [==============================] - 0s 3ms/step - loss: 0.5522 - accuracy: 0.7553 - val_loss: 0.3797 - val_accuracy: 0.8556\n",
      "Epoch 49/100\n",
      "26/26 [==============================] - 0s 4ms/step - loss: 0.5621 - accuracy: 0.7353 - val_loss: 0.4555 - val_accuracy: 0.8111\n",
      "Epoch 50/100\n",
      "26/26 [==============================] - 0s 3ms/step - loss: 0.5525 - accuracy: 0.7528 - val_loss: 0.6128 - val_accuracy: 0.7333\n",
      "Epoch 51/100\n",
      "26/26 [==============================] - 0s 4ms/step - loss: 0.6451 - accuracy: 0.7316 - val_loss: 0.3896 - val_accuracy: 0.8556\n",
      "Epoch 52/100\n",
      "26/26 [==============================] - 0s 3ms/step - loss: 0.5517 - accuracy: 0.7491 - val_loss: 0.3914 - val_accuracy: 0.8333\n",
      "Epoch 53/100\n",
      "26/26 [==============================] - 0s 3ms/step - loss: 0.5115 - accuracy: 0.7578 - val_loss: 0.3798 - val_accuracy: 0.8444\n",
      "Epoch 54/100\n",
      "26/26 [==============================] - 0s 3ms/step - loss: 0.5266 - accuracy: 0.7528 - val_loss: 0.6193 - val_accuracy: 0.7333\n",
      "Epoch 55/100\n",
      "26/26 [==============================] - 0s 4ms/step - loss: 0.5454 - accuracy: 0.7466 - val_loss: 0.4239 - val_accuracy: 0.8222\n",
      "Epoch 56/100\n",
      "26/26 [==============================] - 0s 3ms/step - loss: 0.5895 - accuracy: 0.7266 - val_loss: 0.4137 - val_accuracy: 0.8444\n",
      "Epoch 57/100\n",
      "26/26 [==============================] - 0s 3ms/step - loss: 0.5638 - accuracy: 0.7466 - val_loss: 0.5874 - val_accuracy: 0.7333\n",
      "Epoch 58/100\n",
      "26/26 [==============================] - 0s 4ms/step - loss: 0.5555 - accuracy: 0.7603 - val_loss: 0.3920 - val_accuracy: 0.8444\n",
      "Epoch 59/100\n",
      "26/26 [==============================] - 0s 3ms/step - loss: 0.5260 - accuracy: 0.7566 - val_loss: 0.3660 - val_accuracy: 0.8111\n",
      "Epoch 60/100\n",
      "26/26 [==============================] - 0s 3ms/step - loss: 0.5118 - accuracy: 0.7578 - val_loss: 0.3614 - val_accuracy: 0.8333\n",
      "Epoch 61/100\n",
      "26/26 [==============================] - 0s 3ms/step - loss: 0.5024 - accuracy: 0.7603 - val_loss: 0.3687 - val_accuracy: 0.8222\n",
      "Epoch 62/100\n",
      "26/26 [==============================] - 0s 3ms/step - loss: 0.5159 - accuracy: 0.7566 - val_loss: 0.4401 - val_accuracy: 0.8444\n",
      "Epoch 63/100\n",
      "26/26 [==============================] - 0s 3ms/step - loss: 0.5395 - accuracy: 0.7553 - val_loss: 0.4206 - val_accuracy: 0.8333\n",
      "Epoch 64/100\n",
      "26/26 [==============================] - 0s 3ms/step - loss: 0.5774 - accuracy: 0.7503 - val_loss: 0.3707 - val_accuracy: 0.8222\n",
      "Epoch 65/100\n",
      "26/26 [==============================] - 0s 3ms/step - loss: 0.5515 - accuracy: 0.7453 - val_loss: 0.3601 - val_accuracy: 0.8000\n",
      "Epoch 66/100\n",
      "26/26 [==============================] - 0s 3ms/step - loss: 0.5258 - accuracy: 0.7790 - val_loss: 0.3665 - val_accuracy: 0.8444\n",
      "Epoch 67/100\n",
      "26/26 [==============================] - 0s 3ms/step - loss: 0.4961 - accuracy: 0.7728 - val_loss: 0.3608 - val_accuracy: 0.8222\n",
      "Epoch 68/100\n",
      "26/26 [==============================] - 0s 3ms/step - loss: 0.5194 - accuracy: 0.7740 - val_loss: 0.3704 - val_accuracy: 0.8333\n",
      "Epoch 69/100\n",
      "26/26 [==============================] - 0s 3ms/step - loss: 0.4987 - accuracy: 0.7541 - val_loss: 0.3627 - val_accuracy: 0.8444\n",
      "Epoch 70/100\n",
      "26/26 [==============================] - 0s 4ms/step - loss: 0.5153 - accuracy: 0.7715 - val_loss: 0.3628 - val_accuracy: 0.8333\n",
      "Epoch 71/100\n",
      "26/26 [==============================] - 0s 4ms/step - loss: 0.5268 - accuracy: 0.7728 - val_loss: 0.4252 - val_accuracy: 0.8444\n",
      "Epoch 72/100\n",
      "26/26 [==============================] - 0s 3ms/step - loss: 0.5404 - accuracy: 0.7516 - val_loss: 0.4416 - val_accuracy: 0.8111\n",
      "Epoch 73/100\n",
      "26/26 [==============================] - 0s 3ms/step - loss: 0.5135 - accuracy: 0.7778 - val_loss: 0.3820 - val_accuracy: 0.8556\n",
      "Epoch 74/100\n",
      "26/26 [==============================] - 0s 3ms/step - loss: 0.5175 - accuracy: 0.7703 - val_loss: 0.5129 - val_accuracy: 0.7444\n",
      "Epoch 75/100\n",
      "26/26 [==============================] - 0s 4ms/step - loss: 0.5211 - accuracy: 0.7778 - val_loss: 0.7950 - val_accuracy: 0.7000\n",
      "Epoch 76/100\n",
      "26/26 [==============================] - 0s 3ms/step - loss: 1.1661 - accuracy: 0.6042 - val_loss: 0.7194 - val_accuracy: 0.7667\n",
      "Epoch 77/100\n",
      "26/26 [==============================] - 0s 3ms/step - loss: 0.7332 - accuracy: 0.7278 - val_loss: 0.4603 - val_accuracy: 0.8333\n",
      "Epoch 78/100\n",
      "26/26 [==============================] - 0s 3ms/step - loss: 0.5512 - accuracy: 0.7528 - val_loss: 0.4447 - val_accuracy: 0.8333\n",
      "Epoch 79/100\n",
      "26/26 [==============================] - 0s 3ms/step - loss: 0.7057 - accuracy: 0.7203 - val_loss: 0.5461 - val_accuracy: 0.7778\n",
      "Epoch 80/100\n",
      "26/26 [==============================] - 0s 3ms/step - loss: 0.5617 - accuracy: 0.7703 - val_loss: 0.4259 - val_accuracy: 0.8111\n",
      "Epoch 81/100\n",
      "26/26 [==============================] - 0s 4ms/step - loss: 0.5460 - accuracy: 0.7653 - val_loss: 0.3604 - val_accuracy: 0.8556\n",
      "Epoch 82/100\n",
      "26/26 [==============================] - 0s 3ms/step - loss: 0.5075 - accuracy: 0.7790 - val_loss: 0.3626 - val_accuracy: 0.8444\n",
      "Epoch 83/100\n",
      "26/26 [==============================] - 0s 3ms/step - loss: 0.4956 - accuracy: 0.7815 - val_loss: 0.3923 - val_accuracy: 0.8444\n",
      "Epoch 84/100\n",
      "26/26 [==============================] - 0s 3ms/step - loss: 0.5543 - accuracy: 0.7640 - val_loss: 0.3860 - val_accuracy: 0.8000\n",
      "Epoch 85/100\n",
      "26/26 [==============================] - 0s 3ms/step - loss: 0.4904 - accuracy: 0.7803 - val_loss: 0.3687 - val_accuracy: 0.8444\n",
      "Epoch 86/100\n",
      "26/26 [==============================] - 0s 3ms/step - loss: 0.4935 - accuracy: 0.7840 - val_loss: 0.4607 - val_accuracy: 0.8111\n",
      "Epoch 87/100\n",
      "26/26 [==============================] - 0s 3ms/step - loss: 0.5893 - accuracy: 0.7503 - val_loss: 0.9022 - val_accuracy: 0.5667\n",
      "Epoch 88/100\n",
      "26/26 [==============================] - 0s 4ms/step - loss: 0.6133 - accuracy: 0.7291 - val_loss: 0.3850 - val_accuracy: 0.8111\n",
      "Epoch 89/100\n",
      "26/26 [==============================] - 0s 3ms/step - loss: 0.4876 - accuracy: 0.7790 - val_loss: 0.3798 - val_accuracy: 0.8222\n",
      "Epoch 90/100\n",
      "26/26 [==============================] - 0s 4ms/step - loss: 0.5326 - accuracy: 0.7615 - val_loss: 0.4168 - val_accuracy: 0.8444\n",
      "Epoch 91/100\n",
      "26/26 [==============================] - 0s 3ms/step - loss: 0.5980 - accuracy: 0.7628 - val_loss: 0.3631 - val_accuracy: 0.8000\n",
      "Epoch 92/100\n",
      "26/26 [==============================] - 0s 4ms/step - loss: 0.5268 - accuracy: 0.7678 - val_loss: 0.3682 - val_accuracy: 0.8000\n",
      "Epoch 93/100\n",
      "26/26 [==============================] - 0s 3ms/step - loss: 0.4972 - accuracy: 0.7778 - val_loss: 0.3977 - val_accuracy: 0.8000\n",
      "Epoch 94/100\n",
      "26/26 [==============================] - 0s 3ms/step - loss: 0.4823 - accuracy: 0.7853 - val_loss: 0.3616 - val_accuracy: 0.8222\n",
      "Epoch 95/100\n",
      "26/26 [==============================] - 0s 3ms/step - loss: 0.5387 - accuracy: 0.7778 - val_loss: 0.3778 - val_accuracy: 0.8222\n",
      "Epoch 96/100\n",
      "26/26 [==============================] - 0s 3ms/step - loss: 0.4885 - accuracy: 0.7790 - val_loss: 0.4144 - val_accuracy: 0.8444\n",
      "Epoch 97/100\n",
      "26/26 [==============================] - 0s 3ms/step - loss: 0.5320 - accuracy: 0.7690 - val_loss: 0.3563 - val_accuracy: 0.8222\n",
      "Epoch 98/100\n",
      "26/26 [==============================] - 0s 3ms/step - loss: 0.5473 - accuracy: 0.7690 - val_loss: 0.3565 - val_accuracy: 0.8222\n",
      "Epoch 99/100\n",
      "26/26 [==============================] - 0s 3ms/step - loss: 0.4976 - accuracy: 0.7740 - val_loss: 0.4062 - val_accuracy: 0.8111\n",
      "Epoch 100/100\n",
      "26/26 [==============================] - 0s 3ms/step - loss: 0.4956 - accuracy: 0.7965 - val_loss: 0.4045 - val_accuracy: 0.8333\n",
      "3/3 [==============================] - 0s 3ms/step - loss: 0.4045 - accuracy: 0.8333\n",
      "Test Loss: 0.4045386016368866, Test Accuracy: 0.8333333134651184\n"
     ]
    }
   ],
   "source": [
    "import tensorflow as tf\n",
    "from tensorflow.keras import layers, models\n",
    "\n",
    "\n",
    "\n",
    "# Split the dataset into training and testing sets (replace this with your actual data splitting)\n",
    "from sklearn.model_selection import train_test_split\n",
    "X_train, X_test, y_train, y_test = train_test_split(features, target, test_size=0.1, random_state=42)\n",
    "\n",
    "#X_train = features\n",
    "#y_train = target\n",
    "\n",
    "# Create a simple neural network model\n",
    "model = models.Sequential([\n",
    "    layers.Dense(15, activation='relu', input_shape=(X_train.shape[1],)),\n",
    "    layers.Dense(5, activation='relu'),\n",
    "    layers.Dense(1, activation='sigmoid')  # Binary classification, hence using sigmoid activation\n",
    "])\n",
    "\n",
    "# Compile the model\n",
    "model.compile(optimizer='adam', loss='binary_crossentropy', metrics=['accuracy'])\n",
    "\n",
    "# Train the model\n",
    "model.fit(X_train, y_train, epochs=100, batch_size=32, validation_data=(X_test, y_test))\n",
    "#model.fit(X_train, y_train, epochs=100, batch_size=32)\n",
    "\n",
    "# Evaluate the model on the test set\n",
    "loss, accuracy = model.evaluate(X_test, y_test)\n",
    "print(f\"Test Loss: {loss}, Test Accuracy: {accuracy}\")"
   ]
  },
  {
   "cell_type": "code",
   "execution_count": 40,
   "id": "e55f458a",
   "metadata": {
    "execution": {
     "iopub.execute_input": "2024-02-26T14:42:23.243863Z",
     "iopub.status.busy": "2024-02-26T14:42:23.242812Z",
     "iopub.status.idle": "2024-02-26T14:42:23.249692Z",
     "shell.execute_reply": "2024-02-26T14:42:23.248365Z"
    },
    "papermill": {
     "duration": 0.062542,
     "end_time": "2024-02-26T14:42:23.252143",
     "exception": false,
     "start_time": "2024-02-26T14:42:23.189601",
     "status": "completed"
    },
    "tags": []
   },
   "outputs": [
    {
     "name": "stdout",
     "output_type": "stream",
     "text": [
      "(418, 12)\n"
     ]
    }
   ],
   "source": [
    "print(final_test.shape)"
   ]
  },
  {
   "cell_type": "code",
   "execution_count": 41,
   "id": "a2f451f7",
   "metadata": {
    "execution": {
     "iopub.execute_input": "2024-02-26T14:42:23.358669Z",
     "iopub.status.busy": "2024-02-26T14:42:23.357744Z",
     "iopub.status.idle": "2024-02-26T14:42:23.365939Z",
     "shell.execute_reply": "2024-02-26T14:42:23.364643Z"
    },
    "papermill": {
     "duration": 0.064897,
     "end_time": "2024-02-26T14:42:23.368646",
     "exception": false,
     "start_time": "2024-02-26T14:42:23.303749",
     "status": "completed"
    },
    "tags": []
   },
   "outputs": [
    {
     "name": "stdout",
     "output_type": "stream",
     "text": [
      "PassengerId    float64\n",
      "Survived       float64\n",
      "Pclass         float64\n",
      "Age            float64\n",
      "SibSp          float64\n",
      "Parch          float64\n",
      "Fare           float64\n",
      "Sex_female     float64\n",
      "Sex_male       float64\n",
      "Embarked_C     float64\n",
      "Embarked_Q     float64\n",
      "Embarked_S     float64\n"
     ]
    }
   ],
   "source": [
    "print(final_test.dtypes.to_string())"
   ]
  },
  {
   "cell_type": "code",
   "execution_count": 42,
   "id": "a0952a5e",
   "metadata": {
    "execution": {
     "iopub.execute_input": "2024-02-26T14:42:23.474825Z",
     "iopub.status.busy": "2024-02-26T14:42:23.474047Z",
     "iopub.status.idle": "2024-02-26T14:42:23.480160Z",
     "shell.execute_reply": "2024-02-26T14:42:23.479364Z"
    },
    "papermill": {
     "duration": 0.061311,
     "end_time": "2024-02-26T14:42:23.482573",
     "exception": false,
     "start_time": "2024-02-26T14:42:23.421262",
     "status": "completed"
    },
    "tags": []
   },
   "outputs": [],
   "source": [
    "final_test = final_test.drop(columns=['Survived'], axis=1)"
   ]
  },
  {
   "cell_type": "code",
   "execution_count": 43,
   "id": "343e9107",
   "metadata": {
    "execution": {
     "iopub.execute_input": "2024-02-26T14:42:23.586109Z",
     "iopub.status.busy": "2024-02-26T14:42:23.585319Z",
     "iopub.status.idle": "2024-02-26T14:42:23.603213Z",
     "shell.execute_reply": "2024-02-26T14:42:23.602047Z"
    },
    "papermill": {
     "duration": 0.072881,
     "end_time": "2024-02-26T14:42:23.605720",
     "exception": false,
     "start_time": "2024-02-26T14:42:23.532839",
     "status": "completed"
    },
    "tags": []
   },
   "outputs": [
    {
     "data": {
      "text/plain": [
       "<bound method NDFrame.head of      PassengerId  Pclass       Age  SibSp  Parch      Fare  Sex_female  \\\n",
       "0          892.0     3.0  34.50000    0.0    0.0    7.8292         0.0   \n",
       "1          893.0     3.0  47.00000    1.0    0.0    7.0000         1.0   \n",
       "2          894.0     2.0  62.00000    0.0    0.0    9.6875         0.0   \n",
       "3          895.0     3.0  27.00000    0.0    0.0    8.6625         0.0   \n",
       "4          896.0     3.0  22.00000    1.0    1.0   12.2875         1.0   \n",
       "..           ...     ...       ...    ...    ...       ...         ...   \n",
       "413       1305.0     3.0  30.27259    0.0    0.0    8.0500         0.0   \n",
       "414       1306.0     1.0  39.00000    0.0    0.0  108.9000         1.0   \n",
       "415       1307.0     3.0  38.50000    0.0    0.0    7.2500         0.0   \n",
       "416       1308.0     3.0  30.27259    0.0    0.0    8.0500         0.0   \n",
       "417       1309.0     3.0  30.27259    1.0    1.0   22.3583         0.0   \n",
       "\n",
       "     Sex_male  Embarked_C  Embarked_Q  Embarked_S  \n",
       "0         1.0         0.0         1.0         0.0  \n",
       "1         0.0         0.0         0.0         1.0  \n",
       "2         1.0         0.0         1.0         0.0  \n",
       "3         1.0         0.0         0.0         1.0  \n",
       "4         0.0         0.0         0.0         1.0  \n",
       "..        ...         ...         ...         ...  \n",
       "413       1.0         0.0         0.0         1.0  \n",
       "414       0.0         1.0         0.0         0.0  \n",
       "415       1.0         0.0         0.0         1.0  \n",
       "416       1.0         0.0         0.0         1.0  \n",
       "417       1.0         1.0         0.0         0.0  \n",
       "\n",
       "[418 rows x 11 columns]>"
      ]
     },
     "execution_count": 43,
     "metadata": {},
     "output_type": "execute_result"
    }
   ],
   "source": [
    "final_test.head"
   ]
  },
  {
   "cell_type": "code",
   "execution_count": 44,
   "id": "30196dfa",
   "metadata": {
    "execution": {
     "iopub.execute_input": "2024-02-26T14:42:23.713678Z",
     "iopub.status.busy": "2024-02-26T14:42:23.713252Z",
     "iopub.status.idle": "2024-02-26T14:42:23.720057Z",
     "shell.execute_reply": "2024-02-26T14:42:23.718859Z"
    },
    "papermill": {
     "duration": 0.064586,
     "end_time": "2024-02-26T14:42:23.723238",
     "exception": false,
     "start_time": "2024-02-26T14:42:23.658652",
     "status": "completed"
    },
    "tags": []
   },
   "outputs": [
    {
     "name": "stdout",
     "output_type": "stream",
     "text": [
      "PassengerId    float64\n",
      "Pclass         float64\n",
      "Age            float64\n",
      "SibSp          float64\n",
      "Parch          float64\n",
      "Fare           float64\n",
      "Sex_female     float64\n",
      "Sex_male       float64\n",
      "Embarked_C     float64\n",
      "Embarked_Q     float64\n",
      "Embarked_S     float64\n"
     ]
    }
   ],
   "source": [
    "print(final_test.dtypes.to_string())"
   ]
  },
  {
   "cell_type": "code",
   "execution_count": 45,
   "id": "b57fe6ff",
   "metadata": {
    "execution": {
     "iopub.execute_input": "2024-02-26T14:42:23.827725Z",
     "iopub.status.busy": "2024-02-26T14:42:23.827301Z",
     "iopub.status.idle": "2024-02-26T14:42:24.049293Z",
     "shell.execute_reply": "2024-02-26T14:42:24.045077Z"
    },
    "papermill": {
     "duration": 0.277858,
     "end_time": "2024-02-26T14:42:24.052598",
     "exception": false,
     "start_time": "2024-02-26T14:42:23.774740",
     "status": "completed"
    },
    "tags": []
   },
   "outputs": [
    {
     "name": "stdout",
     "output_type": "stream",
     "text": [
      "14/14 [==============================] - 0s 2ms/step\n",
      "Count of 0: 371\n",
      "Count of 1: 47\n",
      "Predictions: [[0]\n",
      " [0]\n",
      " [0]\n",
      " [0]\n",
      " [0]\n",
      " [0]\n",
      " [0]\n",
      " [0]\n",
      " [0]\n",
      " [0]\n",
      " [0]\n",
      " [0]\n",
      " [1]\n",
      " [0]\n",
      " [1]\n",
      " [1]\n",
      " [0]\n",
      " [0]\n",
      " [0]\n",
      " [0]\n",
      " [0]\n",
      " [0]\n",
      " [1]\n",
      " [0]\n",
      " [1]\n",
      " [0]\n",
      " [1]\n",
      " [0]\n",
      " [0]\n",
      " [0]\n",
      " [0]\n",
      " [0]\n",
      " [0]\n",
      " [0]\n",
      " [0]\n",
      " [0]\n",
      " [0]\n",
      " [0]\n",
      " [0]\n",
      " [0]\n",
      " [0]\n",
      " [0]\n",
      " [0]\n",
      " [0]\n",
      " [1]\n",
      " [0]\n",
      " [0]\n",
      " [0]\n",
      " [1]\n",
      " [0]\n",
      " [0]\n",
      " [0]\n",
      " [0]\n",
      " [1]\n",
      " [0]\n",
      " [0]\n",
      " [0]\n",
      " [0]\n",
      " [0]\n",
      " [1]\n",
      " [0]\n",
      " [0]\n",
      " [0]\n",
      " [0]\n",
      " [0]\n",
      " [0]\n",
      " [0]\n",
      " [0]\n",
      " [0]\n",
      " [1]\n",
      " [0]\n",
      " [0]\n",
      " [0]\n",
      " [0]\n",
      " [1]\n",
      " [1]\n",
      " [0]\n",
      " [0]\n",
      " [0]\n",
      " [0]\n",
      " [0]\n",
      " [0]\n",
      " [0]\n",
      " [0]\n",
      " [0]\n",
      " [0]\n",
      " [0]\n",
      " [0]\n",
      " [0]\n",
      " [0]\n",
      " [0]\n",
      " [0]\n",
      " [1]\n",
      " [0]\n",
      " [0]\n",
      " [0]\n",
      " [1]\n",
      " [0]\n",
      " [0]\n",
      " [0]\n",
      " [1]\n",
      " [0]\n",
      " [0]\n",
      " [0]\n",
      " [0]\n",
      " [0]\n",
      " [0]\n",
      " [0]\n",
      " [0]\n",
      " [0]\n",
      " [0]\n",
      " [0]\n",
      " [1]\n",
      " [0]\n",
      " [1]\n",
      " [0]\n",
      " [0]\n",
      " [0]\n",
      " [0]\n",
      " [0]\n",
      " [0]\n",
      " [0]\n",
      " [1]\n",
      " [0]\n",
      " [0]\n",
      " [0]\n",
      " [0]\n",
      " [0]\n",
      " [0]\n",
      " [0]\n",
      " [0]\n",
      " [0]\n",
      " [0]\n",
      " [0]\n",
      " [0]\n",
      " [0]\n",
      " [0]\n",
      " [0]\n",
      " [0]\n",
      " [0]\n",
      " [0]\n",
      " [1]\n",
      " [0]\n",
      " [0]\n",
      " [0]\n",
      " [0]\n",
      " [0]\n",
      " [0]\n",
      " [0]\n",
      " [0]\n",
      " [1]\n",
      " [0]\n",
      " [0]\n",
      " [0]\n",
      " [0]\n",
      " [0]\n",
      " [1]\n",
      " [0]\n",
      " [0]\n",
      " [0]\n",
      " [0]\n",
      " [0]\n",
      " [0]\n",
      " [0]\n",
      " [0]\n",
      " [0]\n",
      " [0]\n",
      " [0]\n",
      " [0]\n",
      " [0]\n",
      " [0]\n",
      " [0]\n",
      " [0]\n",
      " [0]\n",
      " [0]\n",
      " [1]\n",
      " [1]\n",
      " [0]\n",
      " [0]\n",
      " [1]\n",
      " [0]\n",
      " [0]\n",
      " [1]\n",
      " [0]\n",
      " [1]\n",
      " [0]\n",
      " [0]\n",
      " [0]\n",
      " [0]\n",
      " [0]\n",
      " [0]\n",
      " [0]\n",
      " [0]\n",
      " [0]\n",
      " [0]\n",
      " [0]\n",
      " [0]\n",
      " [0]\n",
      " [0]\n",
      " [0]\n",
      " [0]\n",
      " [0]\n",
      " [0]\n",
      " [0]\n",
      " [0]\n",
      " [0]\n",
      " [0]\n",
      " [0]\n",
      " [0]\n",
      " [0]\n",
      " [0]\n",
      " [0]\n",
      " [0]\n",
      " [0]\n",
      " [0]\n",
      " [0]\n",
      " [0]\n",
      " [0]\n",
      " [1]\n",
      " [0]\n",
      " [0]\n",
      " [0]\n",
      " [0]\n",
      " [0]\n",
      " [0]\n",
      " [0]\n",
      " [0]\n",
      " [0]\n",
      " [0]\n",
      " [0]\n",
      " [0]\n",
      " [0]\n",
      " [0]\n",
      " [0]\n",
      " [0]\n",
      " [0]\n",
      " [0]\n",
      " [0]\n",
      " [0]\n",
      " [1]\n",
      " [0]\n",
      " [0]\n",
      " [0]\n",
      " [0]\n",
      " [0]\n",
      " [0]\n",
      " [0]\n",
      " [0]\n",
      " [0]\n",
      " [0]\n",
      " [0]\n",
      " [0]\n",
      " [0]\n",
      " [0]\n",
      " [0]\n",
      " [0]\n",
      " [0]\n",
      " [0]\n",
      " [0]\n",
      " [0]\n",
      " [0]\n",
      " [0]\n",
      " [0]\n",
      " [0]\n",
      " [0]\n",
      " [0]\n",
      " [0]\n",
      " [0]\n",
      " [0]\n",
      " [0]\n",
      " [0]\n",
      " [0]\n",
      " [1]\n",
      " [0]\n",
      " [0]\n",
      " [0]\n",
      " [0]\n",
      " [0]\n",
      " [0]\n",
      " [0]\n",
      " [0]\n",
      " [0]\n",
      " [0]\n",
      " [0]\n",
      " [0]\n",
      " [0]\n",
      " [0]\n",
      " [0]\n",
      " [0]\n",
      " [0]\n",
      " [0]\n",
      " [0]\n",
      " [0]\n",
      " [0]\n",
      " [0]\n",
      " [0]\n",
      " [0]\n",
      " [0]\n",
      " [0]\n",
      " [0]\n",
      " [0]\n",
      " [0]\n",
      " [0]\n",
      " [0]\n",
      " [0]\n",
      " [0]\n",
      " [0]\n",
      " [0]\n",
      " [0]\n",
      " [0]\n",
      " [0]\n",
      " [0]\n",
      " [0]\n",
      " [0]\n",
      " [1]\n",
      " [0]\n",
      " [0]\n",
      " [0]\n",
      " [0]\n",
      " [0]\n",
      " [0]\n",
      " [0]\n",
      " [0]\n",
      " [0]\n",
      " [1]\n",
      " [0]\n",
      " [0]\n",
      " [0]\n",
      " [0]\n",
      " [0]\n",
      " [0]\n",
      " [0]\n",
      " [0]\n",
      " [0]\n",
      " [0]\n",
      " [0]\n",
      " [0]\n",
      " [0]\n",
      " [0]\n",
      " [0]\n",
      " [0]\n",
      " [0]\n",
      " [0]\n",
      " [1]\n",
      " [0]\n",
      " [0]\n",
      " [0]\n",
      " [0]\n",
      " [0]\n",
      " [0]\n",
      " [1]\n",
      " [0]\n",
      " [0]\n",
      " [0]\n",
      " [0]\n",
      " [0]\n",
      " [0]\n",
      " [0]\n",
      " [0]\n",
      " [0]\n",
      " [0]\n",
      " [0]\n",
      " [0]\n",
      " [0]\n",
      " [1]\n",
      " [0]\n",
      " [0]\n",
      " [1]\n",
      " [1]\n",
      " [0]\n",
      " [0]\n",
      " [1]\n",
      " [0]\n",
      " [0]\n",
      " [1]\n",
      " [1]\n",
      " [0]\n",
      " [0]\n",
      " [0]\n",
      " [0]\n",
      " [0]\n",
      " [0]\n",
      " [0]\n",
      " [0]\n",
      " [0]\n",
      " [0]\n",
      " [0]\n",
      " [0]\n",
      " [0]\n",
      " [0]\n",
      " [0]\n",
      " [0]\n",
      " [0]\n",
      " [0]\n",
      " [0]\n",
      " [1]\n",
      " [0]\n",
      " [1]\n",
      " [0]\n",
      " [0]\n",
      " [1]\n",
      " [0]\n",
      " [1]\n",
      " [0]\n",
      " [0]\n",
      " [0]\n",
      " [0]\n",
      " [1]\n",
      " [0]\n",
      " [0]\n",
      " [0]\n",
      " [1]\n",
      " [0]\n",
      " [0]\n",
      " [1]\n",
      " [0]\n",
      " [0]\n",
      " [0]]\n"
     ]
    }
   ],
   "source": [
    "predictions = model.predict(final_test)\n",
    "\n",
    "binary_predictions = (predictions > 0.5).astype(int)\n",
    "\n",
    "# Display the predictions\n",
    "count_0 = np.sum(binary_predictions == 0)\n",
    "count_1 = np.sum(binary_predictions == 1)\n",
    "\n",
    "print(f\"Count of 0: {count_0}\")\n",
    "print(f\"Count of 1: {count_1}\")\n",
    "print(\"Predictions:\", binary_predictions)\n",
    "\n"
   ]
  },
  {
   "cell_type": "code",
   "execution_count": 46,
   "id": "1ad90221",
   "metadata": {
    "execution": {
     "iopub.execute_input": "2024-02-26T14:42:24.161569Z",
     "iopub.status.busy": "2024-02-26T14:42:24.160312Z",
     "iopub.status.idle": "2024-02-26T14:42:24.166896Z",
     "shell.execute_reply": "2024-02-26T14:42:24.165697Z"
    },
    "papermill": {
     "duration": 0.063521,
     "end_time": "2024-02-26T14:42:24.169546",
     "exception": false,
     "start_time": "2024-02-26T14:42:24.106025",
     "status": "completed"
    },
    "tags": []
   },
   "outputs": [
    {
     "name": "stdout",
     "output_type": "stream",
     "text": [
      "(418, 1)\n"
     ]
    }
   ],
   "source": [
    "print(binary_predictions.shape)"
   ]
  },
  {
   "cell_type": "code",
   "execution_count": 47,
   "id": "85b234b6",
   "metadata": {
    "execution": {
     "iopub.execute_input": "2024-02-26T14:42:24.276395Z",
     "iopub.status.busy": "2024-02-26T14:42:24.276003Z",
     "iopub.status.idle": "2024-02-26T14:42:24.304580Z",
     "shell.execute_reply": "2024-02-26T14:42:24.303522Z"
    },
    "papermill": {
     "duration": 0.086036,
     "end_time": "2024-02-26T14:42:24.308255",
     "exception": false,
     "start_time": "2024-02-26T14:42:24.222219",
     "status": "completed"
    },
    "tags": []
   },
   "outputs": [
    {
     "name": "stdout",
     "output_type": "stream",
     "text": [
      "(418,)\n",
      "[0 0 0 0 0 0 0 0 0 0 0 0 1 0 1 1 0 0 0 0 0 0 1 0 1 0 1 0 0 0 0 0 0 0 0 0 0\n",
      " 0 0 0 0 0 0 0 1 0 0 0 1 0 0 0 0 1 0 0 0 0 0 1 0 0 0 0 0 0 0 0 0 1 0 0 0 0\n",
      " 1 1 0 0 0 0 0 0 0 0 0 0 0 0 0 0 0 0 1 0 0 0 1 0 0 0 1 0 0 0 0 0 0 0 0 0 0\n",
      " 0 1 0 1 0 0 0 0 0 0 0 1 0 0 0 0 0 0 0 0 0 0 0 0 0 0 0 0 0 0 1 0 0 0 0 0 0\n",
      " 0 0 1 0 0 0 0 0 1 0 0 0 0 0 0 0 0 0 0 0 0 0 0 0 0 0 0 1 1 0 0 1 0 0 1 0 1\n",
      " 0 0 0 0 0 0 0 0 0 0 0 0 0 0 0 0 0 0 0 0 0 0 0 0 0 0 0 0 0 0 0 0 0 1 0 0 0\n",
      " 0 0 0 0 0 0 0 0 0 0 0 0 0 0 0 0 0 1 0 0 0 0 0 0 0 0 0 0 0 0 0 0 0 0 0 0 0\n",
      " 0 0 0 0 0 0 0 0 0 0 0 0 0 1 0 0 0 0 0 0 0 0 0 0 0 0 0 0 0 0 0 0 0 0 0 0 0\n",
      " 0 0 0 0 0 0 0 0 0 0 0 0 0 0 0 0 0 0 1 0 0 0 0 0 0 0 0 0 1 0 0 0 0 0 0 0 0\n",
      " 0 0 0 0 0 0 0 0 0 0 1 0 0 0 0 0 0 1 0 0 0 0 0 0 0 0 0 0 0 0 0 1 0 0 1 1 0\n",
      " 0 1 0 0 1 1 0 0 0 0 0 0 0 0 0 0 0 0 0 0 0 0 0 0 0 1 0 1 0 0 1 0 1 0 0 0 0\n",
      " 1 0 0 0 1 0 0 1 0 0 0]\n",
      "PassengerId    float64\n",
      "Survived         int64\n",
      "[ 892.  893.  894.  895.  896.  897.  898.  899.  900.  901.  902.  903.\n",
      "  904.  905.  906.  907.  908.  909.  910.  911.  912.  913.  914.  915.\n",
      "  916.  917.  918.  919.  920.  921.  922.  923.  924.  925.  926.  927.\n",
      "  928.  929.  930.  931.  932.  933.  934.  935.  936.  937.  938.  939.\n",
      "  940.  941.  942.  943.  944.  945.  946.  947.  948.  949.  950.  951.\n",
      "  952.  953.  954.  955.  956.  957.  958.  959.  960.  961.  962.  963.\n",
      "  964.  965.  966.  967.  968.  969.  970.  971.  972.  973.  974.  975.\n",
      "  976.  977.  978.  979.  980.  981.  982.  983.  984.  985.  986.  987.\n",
      "  988.  989.  990.  991.  992.  993.  994.  995.  996.  997.  998.  999.\n",
      " 1000. 1001. 1002. 1003. 1004. 1005. 1006. 1007. 1008. 1009. 1010. 1011.\n",
      " 1012. 1013. 1014. 1015. 1016. 1017. 1018. 1019. 1020. 1021. 1022. 1023.\n",
      " 1024. 1025. 1026. 1027. 1028. 1029. 1030. 1031. 1032. 1033. 1034. 1035.\n",
      " 1036. 1037. 1038. 1039. 1040. 1041. 1042. 1043. 1044. 1045. 1046. 1047.\n",
      " 1048. 1049. 1050. 1051. 1052. 1053. 1054. 1055. 1056. 1057. 1058. 1059.\n",
      " 1060. 1061. 1062. 1063. 1064. 1065. 1066. 1067. 1068. 1069. 1070. 1071.\n",
      " 1072. 1073. 1074. 1075. 1076. 1077. 1078. 1079. 1080. 1081. 1082. 1083.\n",
      " 1084. 1085. 1086. 1087. 1088. 1089. 1090. 1091. 1092. 1093. 1094. 1095.\n",
      " 1096. 1097. 1098. 1099. 1100. 1101. 1102. 1103. 1104. 1105. 1106. 1107.\n",
      " 1108. 1109. 1110. 1111. 1112. 1113. 1114. 1115. 1116. 1117. 1118. 1119.\n",
      " 1120. 1121. 1122. 1123. 1124. 1125. 1126. 1127. 1128. 1129. 1130. 1131.\n",
      " 1132. 1133. 1134. 1135. 1136. 1137. 1138. 1139. 1140. 1141. 1142. 1143.\n",
      " 1144. 1145. 1146. 1147. 1148. 1149. 1150. 1151. 1152. 1153. 1154. 1155.\n",
      " 1156. 1157. 1158. 1159. 1160. 1161. 1162. 1163. 1164. 1165. 1166. 1167.\n",
      " 1168. 1169. 1170. 1171. 1172. 1173. 1174. 1175. 1176. 1177. 1178. 1179.\n",
      " 1180. 1181. 1182. 1183. 1184. 1185. 1186. 1187. 1188. 1189. 1190. 1191.\n",
      " 1192. 1193. 1194. 1195. 1196. 1197. 1198. 1199. 1200. 1201. 1202. 1203.\n",
      " 1204. 1205. 1206. 1207. 1208. 1209. 1210. 1211. 1212. 1213. 1214. 1215.\n",
      " 1216. 1217. 1218. 1219. 1220. 1221. 1222. 1223. 1224. 1225. 1226. 1227.\n",
      " 1228. 1229. 1230. 1231. 1232. 1233. 1234. 1235. 1236. 1237. 1238. 1239.\n",
      " 1240. 1241. 1242. 1243. 1244. 1245. 1246. 1247. 1248. 1249. 1250. 1251.\n",
      " 1252. 1253. 1254. 1255. 1256. 1257. 1258. 1259. 1260. 1261. 1262. 1263.\n",
      " 1264. 1265. 1266. 1267. 1268. 1269. 1270. 1271. 1272. 1273. 1274. 1275.\n",
      " 1276. 1277. 1278. 1279. 1280. 1281. 1282. 1283. 1284. 1285. 1286. 1287.\n",
      " 1288. 1289. 1290. 1291. 1292. 1293. 1294. 1295. 1296. 1297. 1298. 1299.\n",
      " 1300. 1301. 1302. 1303. 1304. 1305. 1306. 1307. 1308. 1309.]\n",
      "PassengerId    int64\n",
      "Survived       int64\n",
      "     PassengerId  Survived\n",
      "0            892         0\n",
      "1            893         0\n",
      "2            894         0\n",
      "3            895         0\n",
      "4            896         0\n",
      "5            897         0\n",
      "6            898         0\n",
      "7            899         0\n",
      "8            900         0\n",
      "9            901         0\n",
      "10           902         0\n",
      "11           903         0\n",
      "12           904         1\n",
      "13           905         0\n",
      "14           906         1\n",
      "15           907         1\n",
      "16           908         0\n",
      "17           909         0\n",
      "18           910         0\n",
      "19           911         0\n",
      "20           912         0\n",
      "21           913         0\n",
      "22           914         1\n",
      "23           915         0\n",
      "24           916         1\n",
      "25           917         0\n",
      "26           918         1\n",
      "27           919         0\n",
      "28           920         0\n",
      "29           921         0\n",
      "30           922         0\n",
      "31           923         0\n",
      "32           924         0\n",
      "33           925         0\n",
      "34           926         0\n",
      "35           927         0\n",
      "36           928         0\n",
      "37           929         0\n",
      "38           930         0\n",
      "39           931         0\n",
      "40           932         0\n",
      "41           933         0\n",
      "42           934         0\n",
      "43           935         0\n",
      "44           936         1\n",
      "45           937         0\n",
      "46           938         0\n",
      "47           939         0\n",
      "48           940         1\n",
      "49           941         0\n",
      "50           942         0\n",
      "51           943         0\n",
      "52           944         0\n",
      "53           945         1\n",
      "54           946         0\n",
      "55           947         0\n",
      "56           948         0\n",
      "57           949         0\n",
      "58           950         0\n",
      "59           951         1\n",
      "60           952         0\n",
      "61           953         0\n",
      "62           954         0\n",
      "63           955         0\n",
      "64           956         0\n",
      "65           957         0\n",
      "66           958         0\n",
      "67           959         0\n",
      "68           960         0\n",
      "69           961         1\n",
      "70           962         0\n",
      "71           963         0\n",
      "72           964         0\n",
      "73           965         0\n",
      "74           966         1\n",
      "75           967         1\n",
      "76           968         0\n",
      "77           969         0\n",
      "78           970         0\n",
      "79           971         0\n",
      "80           972         0\n",
      "81           973         0\n",
      "82           974         0\n",
      "83           975         0\n",
      "84           976         0\n",
      "85           977         0\n",
      "86           978         0\n",
      "87           979         0\n",
      "88           980         0\n",
      "89           981         0\n",
      "90           982         0\n",
      "91           983         0\n",
      "92           984         1\n",
      "93           985         0\n",
      "94           986         0\n",
      "95           987         0\n",
      "96           988         1\n",
      "97           989         0\n",
      "98           990         0\n",
      "99           991         0\n",
      "100          992         1\n",
      "101          993         0\n",
      "102          994         0\n",
      "103          995         0\n",
      "104          996         0\n",
      "105          997         0\n",
      "106          998         0\n",
      "107          999         0\n",
      "108         1000         0\n",
      "109         1001         0\n",
      "110         1002         0\n",
      "111         1003         0\n",
      "112         1004         1\n",
      "113         1005         0\n",
      "114         1006         1\n",
      "115         1007         0\n",
      "116         1008         0\n",
      "117         1009         0\n",
      "118         1010         0\n",
      "119         1011         0\n",
      "120         1012         0\n",
      "121         1013         0\n",
      "122         1014         1\n",
      "123         1015         0\n",
      "124         1016         0\n",
      "125         1017         0\n",
      "126         1018         0\n",
      "127         1019         0\n",
      "128         1020         0\n",
      "129         1021         0\n",
      "130         1022         0\n",
      "131         1023         0\n",
      "132         1024         0\n",
      "133         1025         0\n",
      "134         1026         0\n",
      "135         1027         0\n",
      "136         1028         0\n",
      "137         1029         0\n",
      "138         1030         0\n",
      "139         1031         0\n",
      "140         1032         0\n",
      "141         1033         1\n",
      "142         1034         0\n",
      "143         1035         0\n",
      "144         1036         0\n",
      "145         1037         0\n",
      "146         1038         0\n",
      "147         1039         0\n",
      "148         1040         0\n",
      "149         1041         0\n",
      "150         1042         1\n",
      "151         1043         0\n",
      "152         1044         0\n",
      "153         1045         0\n",
      "154         1046         0\n",
      "155         1047         0\n",
      "156         1048         1\n",
      "157         1049         0\n",
      "158         1050         0\n",
      "159         1051         0\n",
      "160         1052         0\n",
      "161         1053         0\n",
      "162         1054         0\n",
      "163         1055         0\n",
      "164         1056         0\n",
      "165         1057         0\n",
      "166         1058         0\n",
      "167         1059         0\n",
      "168         1060         0\n",
      "169         1061         0\n",
      "170         1062         0\n",
      "171         1063         0\n",
      "172         1064         0\n",
      "173         1065         0\n",
      "174         1066         0\n",
      "175         1067         1\n",
      "176         1068         1\n",
      "177         1069         0\n",
      "178         1070         0\n",
      "179         1071         1\n",
      "180         1072         0\n",
      "181         1073         0\n",
      "182         1074         1\n",
      "183         1075         0\n",
      "184         1076         1\n",
      "185         1077         0\n",
      "186         1078         0\n",
      "187         1079         0\n",
      "188         1080         0\n",
      "189         1081         0\n",
      "190         1082         0\n",
      "191         1083         0\n",
      "192         1084         0\n",
      "193         1085         0\n",
      "194         1086         0\n",
      "195         1087         0\n",
      "196         1088         0\n",
      "197         1089         0\n",
      "198         1090         0\n",
      "199         1091         0\n",
      "200         1092         0\n",
      "201         1093         0\n",
      "202         1094         0\n",
      "203         1095         0\n",
      "204         1096         0\n",
      "205         1097         0\n",
      "206         1098         0\n",
      "207         1099         0\n",
      "208         1100         0\n",
      "209         1101         0\n",
      "210         1102         0\n",
      "211         1103         0\n",
      "212         1104         0\n",
      "213         1105         0\n",
      "214         1106         0\n",
      "215         1107         0\n",
      "216         1108         0\n",
      "217         1109         0\n",
      "218         1110         1\n",
      "219         1111         0\n",
      "220         1112         0\n",
      "221         1113         0\n",
      "222         1114         0\n",
      "223         1115         0\n",
      "224         1116         0\n",
      "225         1117         0\n",
      "226         1118         0\n",
      "227         1119         0\n",
      "228         1120         0\n",
      "229         1121         0\n",
      "230         1122         0\n",
      "231         1123         0\n",
      "232         1124         0\n",
      "233         1125         0\n",
      "234         1126         0\n",
      "235         1127         0\n",
      "236         1128         0\n",
      "237         1129         0\n",
      "238         1130         0\n",
      "239         1131         1\n",
      "240         1132         0\n",
      "241         1133         0\n",
      "242         1134         0\n",
      "243         1135         0\n",
      "244         1136         0\n",
      "245         1137         0\n",
      "246         1138         0\n",
      "247         1139         0\n",
      "248         1140         0\n",
      "249         1141         0\n",
      "250         1142         0\n",
      "251         1143         0\n",
      "252         1144         0\n",
      "253         1145         0\n",
      "254         1146         0\n",
      "255         1147         0\n",
      "256         1148         0\n",
      "257         1149         0\n",
      "258         1150         0\n",
      "259         1151         0\n",
      "260         1152         0\n",
      "261         1153         0\n",
      "262         1154         0\n",
      "263         1155         0\n",
      "264         1156         0\n",
      "265         1157         0\n",
      "266         1158         0\n",
      "267         1159         0\n",
      "268         1160         0\n",
      "269         1161         0\n",
      "270         1162         0\n",
      "271         1163         0\n",
      "272         1164         1\n",
      "273         1165         0\n",
      "274         1166         0\n",
      "275         1167         0\n",
      "276         1168         0\n",
      "277         1169         0\n",
      "278         1170         0\n",
      "279         1171         0\n",
      "280         1172         0\n",
      "281         1173         0\n",
      "282         1174         0\n",
      "283         1175         0\n",
      "284         1176         0\n",
      "285         1177         0\n",
      "286         1178         0\n",
      "287         1179         0\n",
      "288         1180         0\n",
      "289         1181         0\n",
      "290         1182         0\n",
      "291         1183         0\n",
      "292         1184         0\n",
      "293         1185         0\n",
      "294         1186         0\n",
      "295         1187         0\n",
      "296         1188         0\n",
      "297         1189         0\n",
      "298         1190         0\n",
      "299         1191         0\n",
      "300         1192         0\n",
      "301         1193         0\n",
      "302         1194         0\n",
      "303         1195         0\n",
      "304         1196         0\n",
      "305         1197         0\n",
      "306         1198         0\n",
      "307         1199         0\n",
      "308         1200         0\n",
      "309         1201         0\n",
      "310         1202         0\n",
      "311         1203         0\n",
      "312         1204         0\n",
      "313         1205         0\n",
      "314         1206         1\n",
      "315         1207         0\n",
      "316         1208         0\n",
      "317         1209         0\n",
      "318         1210         0\n",
      "319         1211         0\n",
      "320         1212         0\n",
      "321         1213         0\n",
      "322         1214         0\n",
      "323         1215         0\n",
      "324         1216         1\n",
      "325         1217         0\n",
      "326         1218         0\n",
      "327         1219         0\n",
      "328         1220         0\n",
      "329         1221         0\n",
      "330         1222         0\n",
      "331         1223         0\n",
      "332         1224         0\n",
      "333         1225         0\n",
      "334         1226         0\n",
      "335         1227         0\n",
      "336         1228         0\n",
      "337         1229         0\n",
      "338         1230         0\n",
      "339         1231         0\n",
      "340         1232         0\n",
      "341         1233         0\n",
      "342         1234         0\n",
      "343         1235         1\n",
      "344         1236         0\n",
      "345         1237         0\n",
      "346         1238         0\n",
      "347         1239         0\n",
      "348         1240         0\n",
      "349         1241         0\n",
      "350         1242         1\n",
      "351         1243         0\n",
      "352         1244         0\n",
      "353         1245         0\n",
      "354         1246         0\n",
      "355         1247         0\n",
      "356         1248         0\n",
      "357         1249         0\n",
      "358         1250         0\n",
      "359         1251         0\n",
      "360         1252         0\n",
      "361         1253         0\n",
      "362         1254         0\n",
      "363         1255         0\n",
      "364         1256         1\n",
      "365         1257         0\n",
      "366         1258         0\n",
      "367         1259         1\n",
      "368         1260         1\n",
      "369         1261         0\n",
      "370         1262         0\n",
      "371         1263         1\n",
      "372         1264         0\n",
      "373         1265         0\n",
      "374         1266         1\n",
      "375         1267         1\n",
      "376         1268         0\n",
      "377         1269         0\n",
      "378         1270         0\n",
      "379         1271         0\n",
      "380         1272         0\n",
      "381         1273         0\n",
      "382         1274         0\n",
      "383         1275         0\n",
      "384         1276         0\n",
      "385         1277         0\n",
      "386         1278         0\n",
      "387         1279         0\n",
      "388         1280         0\n",
      "389         1281         0\n",
      "390         1282         0\n",
      "391         1283         0\n",
      "392         1284         0\n",
      "393         1285         0\n",
      "394         1286         0\n",
      "395         1287         1\n",
      "396         1288         0\n",
      "397         1289         1\n",
      "398         1290         0\n",
      "399         1291         0\n",
      "400         1292         1\n",
      "401         1293         0\n",
      "402         1294         1\n",
      "403         1295         0\n",
      "404         1296         0\n",
      "405         1297         0\n",
      "406         1298         0\n",
      "407         1299         1\n",
      "408         1300         0\n",
      "409         1301         0\n",
      "410         1302         0\n",
      "411         1303         1\n",
      "412         1304         0\n",
      "413         1305         0\n",
      "414         1306         1\n",
      "415         1307         0\n",
      "416         1308         0\n",
      "417         1309         0\n"
     ]
    }
   ],
   "source": [
    "binary_predictions_flat = binary_predictions.flatten()\n",
    "print(binary_predictions_flat.shape)\n",
    "print(binary_predictions_flat)\n",
    "# Construct the new DataFrame\n",
    "result = pd.DataFrame({'PassengerId': final_test['PassengerId'], 'Survived': binary_predictions_flat})\n",
    "print(result.dtypes.to_string())\n",
    "print(result['PassengerId'].unique())\n",
    "result['PassengerId'] = result['PassengerId'].astype(int)\n",
    "print(result.dtypes.to_string())\n",
    "# Display the result\n",
    "print_full(result)\n",
    "result.to_csv('submission.csv', index=False)"
   ]
  },
  {
   "cell_type": "code",
   "execution_count": null,
   "id": "7c26d585",
   "metadata": {
    "papermill": {
     "duration": 0.054178,
     "end_time": "2024-02-26T14:42:24.417181",
     "exception": false,
     "start_time": "2024-02-26T14:42:24.363003",
     "status": "completed"
    },
    "tags": []
   },
   "outputs": [],
   "source": []
  }
 ],
 "metadata": {
  "kaggle": {
   "accelerator": "none",
   "dataSources": [
    {
     "databundleVersionId": 26502,
     "sourceId": 3136,
     "sourceType": "competition"
    }
   ],
   "dockerImageVersionId": 30646,
   "isGpuEnabled": false,
   "isInternetEnabled": false,
   "language": "python",
   "sourceType": "notebook"
  },
  "kernelspec": {
   "display_name": "Python 3",
   "language": "python",
   "name": "python3"
  },
  "language_info": {
   "codemirror_mode": {
    "name": "ipython",
    "version": 3
   },
   "file_extension": ".py",
   "mimetype": "text/x-python",
   "name": "python",
   "nbconvert_exporter": "python",
   "pygments_lexer": "ipython3",
   "version": "3.10.13"
  },
  "papermill": {
   "default_parameters": {},
   "duration": 36.967728,
   "end_time": "2024-02-26T14:42:26.196926",
   "environment_variables": {},
   "exception": null,
   "input_path": "__notebook__.ipynb",
   "output_path": "__notebook__.ipynb",
   "parameters": {},
   "start_time": "2024-02-26T14:41:49.229198",
   "version": "2.5.0"
  }
 },
 "nbformat": 4,
 "nbformat_minor": 5
}
